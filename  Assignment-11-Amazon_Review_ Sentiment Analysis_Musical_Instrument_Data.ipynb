{
 "cells": [
  {
   "cell_type": "markdown",
   "metadata": {},
   "source": [
    "# Assignment-11-Amazon_Review_ Sentiment Analysis_Musical_Instrument_Data"
   ]
  },
  {
   "cell_type": "markdown",
   "metadata": {},
   "source": [
    "TWO:\n",
    "1) Extract reviews of any product from ecommerce website like amazon<br/>\n",
    "2) Perform emotion mining\n"
   ]
  },
  {
   "cell_type": "code",
   "execution_count": 1,
   "metadata": {
    "ExecuteTime": {
     "end_time": "2021-11-24T09:37:58.613739Z",
     "start_time": "2021-11-24T09:37:05.718610Z"
    }
   },
   "outputs": [],
   "source": [
    "# importing libraries\n",
    "import pandas as pd\n",
    "import numpy as np\n",
    "import matplotlib.pyplot as plt\n",
    "import string\n",
    "import spacy\n",
    "from matplotlib.pyplot import imread\n",
    "from wordcloud import WordCloud\n",
    "%matplotlib inline"
   ]
  },
  {
   "cell_type": "code",
   "execution_count": 2,
   "metadata": {
    "ExecuteTime": {
     "end_time": "2021-11-24T09:38:58.489380Z",
     "start_time": "2021-11-24T09:38:58.331008Z"
    }
   },
   "outputs": [],
   "source": [
    "# loading dataset\n",
    "review = pd.read_csv('Musical_instruments_reviews.csv')"
   ]
  },
  {
   "cell_type": "markdown",
   "metadata": {},
   "source": [
    "## Data Preprocessing for Sentiment Analysis\n"
   ]
  },
  {
   "cell_type": "code",
   "execution_count": 3,
   "metadata": {
    "ExecuteTime": {
     "end_time": "2021-11-24T09:39:00.327098Z",
     "start_time": "2021-11-24T09:39:00.305160Z"
    }
   },
   "outputs": [
    {
     "data": {
      "text/plain": [
       "(10261, 9)"
      ]
     },
     "execution_count": 3,
     "metadata": {},
     "output_type": "execute_result"
    }
   ],
   "source": [
    "review.shape"
   ]
  },
  {
   "cell_type": "code",
   "execution_count": 4,
   "metadata": {
    "ExecuteTime": {
     "end_time": "2021-11-24T09:39:01.208111Z",
     "start_time": "2021-11-24T09:39:01.165226Z"
    }
   },
   "outputs": [
    {
     "data": {
      "text/html": [
       "<div>\n",
       "<style scoped>\n",
       "    .dataframe tbody tr th:only-of-type {\n",
       "        vertical-align: middle;\n",
       "    }\n",
       "\n",
       "    .dataframe tbody tr th {\n",
       "        vertical-align: top;\n",
       "    }\n",
       "\n",
       "    .dataframe thead th {\n",
       "        text-align: right;\n",
       "    }\n",
       "</style>\n",
       "<table border=\"1\" class=\"dataframe\">\n",
       "  <thead>\n",
       "    <tr style=\"text-align: right;\">\n",
       "      <th></th>\n",
       "      <th>reviewerID</th>\n",
       "      <th>asin</th>\n",
       "      <th>reviewerName</th>\n",
       "      <th>helpful</th>\n",
       "      <th>reviewText</th>\n",
       "      <th>overall</th>\n",
       "      <th>summary</th>\n",
       "      <th>unixReviewTime</th>\n",
       "      <th>reviewTime</th>\n",
       "    </tr>\n",
       "  </thead>\n",
       "  <tbody>\n",
       "    <tr>\n",
       "      <th>0</th>\n",
       "      <td>A2IBPI20UZIR0U</td>\n",
       "      <td>1384719342</td>\n",
       "      <td>cassandra tu \"Yeah, well, that's just like, u...</td>\n",
       "      <td>[0, 0]</td>\n",
       "      <td>Not much to write about here, but it does exac...</td>\n",
       "      <td>5</td>\n",
       "      <td>good</td>\n",
       "      <td>1393545600</td>\n",
       "      <td>02 28, 2014</td>\n",
       "    </tr>\n",
       "    <tr>\n",
       "      <th>1</th>\n",
       "      <td>A14VAT5EAX3D9S</td>\n",
       "      <td>1384719342</td>\n",
       "      <td>Jake</td>\n",
       "      <td>[13, 14]</td>\n",
       "      <td>The product does exactly as it should and is q...</td>\n",
       "      <td>5</td>\n",
       "      <td>Jake</td>\n",
       "      <td>1363392000</td>\n",
       "      <td>03 16, 2013</td>\n",
       "    </tr>\n",
       "    <tr>\n",
       "      <th>2</th>\n",
       "      <td>A195EZSQDW3E21</td>\n",
       "      <td>1384719342</td>\n",
       "      <td>Rick Bennette \"Rick Bennette\"</td>\n",
       "      <td>[1, 1]</td>\n",
       "      <td>The primary job of this device is to block the...</td>\n",
       "      <td>5</td>\n",
       "      <td>It Does The Job Well</td>\n",
       "      <td>1377648000</td>\n",
       "      <td>08 28, 2013</td>\n",
       "    </tr>\n",
       "    <tr>\n",
       "      <th>3</th>\n",
       "      <td>A2C00NNG1ZQQG2</td>\n",
       "      <td>1384719342</td>\n",
       "      <td>RustyBill \"Sunday Rocker\"</td>\n",
       "      <td>[0, 0]</td>\n",
       "      <td>Nice windscreen protects my MXL mic and preven...</td>\n",
       "      <td>5</td>\n",
       "      <td>GOOD WINDSCREEN FOR THE MONEY</td>\n",
       "      <td>1392336000</td>\n",
       "      <td>02 14, 2014</td>\n",
       "    </tr>\n",
       "    <tr>\n",
       "      <th>4</th>\n",
       "      <td>A94QU4C90B1AX</td>\n",
       "      <td>1384719342</td>\n",
       "      <td>SEAN MASLANKA</td>\n",
       "      <td>[0, 0]</td>\n",
       "      <td>This pop filter is great. It looks and perform...</td>\n",
       "      <td>5</td>\n",
       "      <td>No more pops when I record my vocals.</td>\n",
       "      <td>1392940800</td>\n",
       "      <td>02 21, 2014</td>\n",
       "    </tr>\n",
       "  </tbody>\n",
       "</table>\n",
       "</div>"
      ],
      "text/plain": [
       "       reviewerID        asin  \\\n",
       "0  A2IBPI20UZIR0U  1384719342   \n",
       "1  A14VAT5EAX3D9S  1384719342   \n",
       "2  A195EZSQDW3E21  1384719342   \n",
       "3  A2C00NNG1ZQQG2  1384719342   \n",
       "4   A94QU4C90B1AX  1384719342   \n",
       "\n",
       "                                       reviewerName   helpful  \\\n",
       "0  cassandra tu \"Yeah, well, that's just like, u...    [0, 0]   \n",
       "1                                              Jake  [13, 14]   \n",
       "2                     Rick Bennette \"Rick Bennette\"    [1, 1]   \n",
       "3                         RustyBill \"Sunday Rocker\"    [0, 0]   \n",
       "4                                     SEAN MASLANKA    [0, 0]   \n",
       "\n",
       "                                          reviewText  overall  \\\n",
       "0  Not much to write about here, but it does exac...        5   \n",
       "1  The product does exactly as it should and is q...        5   \n",
       "2  The primary job of this device is to block the...        5   \n",
       "3  Nice windscreen protects my MXL mic and preven...        5   \n",
       "4  This pop filter is great. It looks and perform...        5   \n",
       "\n",
       "                                 summary  unixReviewTime   reviewTime  \n",
       "0                                   good      1393545600  02 28, 2014  \n",
       "1                                   Jake      1363392000  03 16, 2013  \n",
       "2                   It Does The Job Well      1377648000  08 28, 2013  \n",
       "3          GOOD WINDSCREEN FOR THE MONEY      1392336000  02 14, 2014  \n",
       "4  No more pops when I record my vocals.      1392940800  02 21, 2014  "
      ]
     },
     "execution_count": 4,
     "metadata": {},
     "output_type": "execute_result"
    }
   ],
   "source": [
    "review.head()"
   ]
  },
  {
   "cell_type": "code",
   "execution_count": 5,
   "metadata": {
    "ExecuteTime": {
     "end_time": "2021-11-24T09:39:02.037477Z",
     "start_time": "2021-11-24T09:39:01.995589Z"
    }
   },
   "outputs": [
    {
     "data": {
      "text/html": [
       "<div>\n",
       "<style scoped>\n",
       "    .dataframe tbody tr th:only-of-type {\n",
       "        vertical-align: middle;\n",
       "    }\n",
       "\n",
       "    .dataframe tbody tr th {\n",
       "        vertical-align: top;\n",
       "    }\n",
       "\n",
       "    .dataframe thead th {\n",
       "        text-align: right;\n",
       "    }\n",
       "</style>\n",
       "<table border=\"1\" class=\"dataframe\">\n",
       "  <thead>\n",
       "    <tr style=\"text-align: right;\">\n",
       "      <th></th>\n",
       "      <th>review_id</th>\n",
       "      <th>asin</th>\n",
       "      <th>review_name</th>\n",
       "      <th>helpful</th>\n",
       "      <th>review_text</th>\n",
       "      <th>overall</th>\n",
       "      <th>summary</th>\n",
       "      <th>unix_review_time</th>\n",
       "      <th>review_time</th>\n",
       "    </tr>\n",
       "  </thead>\n",
       "  <tbody>\n",
       "    <tr>\n",
       "      <th>0</th>\n",
       "      <td>A2IBPI20UZIR0U</td>\n",
       "      <td>1384719342</td>\n",
       "      <td>cassandra tu \"Yeah, well, that's just like, u...</td>\n",
       "      <td>[0, 0]</td>\n",
       "      <td>Not much to write about here, but it does exac...</td>\n",
       "      <td>5</td>\n",
       "      <td>good</td>\n",
       "      <td>1393545600</td>\n",
       "      <td>02 28, 2014</td>\n",
       "    </tr>\n",
       "    <tr>\n",
       "      <th>1</th>\n",
       "      <td>A14VAT5EAX3D9S</td>\n",
       "      <td>1384719342</td>\n",
       "      <td>Jake</td>\n",
       "      <td>[13, 14]</td>\n",
       "      <td>The product does exactly as it should and is q...</td>\n",
       "      <td>5</td>\n",
       "      <td>Jake</td>\n",
       "      <td>1363392000</td>\n",
       "      <td>03 16, 2013</td>\n",
       "    </tr>\n",
       "    <tr>\n",
       "      <th>2</th>\n",
       "      <td>A195EZSQDW3E21</td>\n",
       "      <td>1384719342</td>\n",
       "      <td>Rick Bennette \"Rick Bennette\"</td>\n",
       "      <td>[1, 1]</td>\n",
       "      <td>The primary job of this device is to block the...</td>\n",
       "      <td>5</td>\n",
       "      <td>It Does The Job Well</td>\n",
       "      <td>1377648000</td>\n",
       "      <td>08 28, 2013</td>\n",
       "    </tr>\n",
       "    <tr>\n",
       "      <th>3</th>\n",
       "      <td>A2C00NNG1ZQQG2</td>\n",
       "      <td>1384719342</td>\n",
       "      <td>RustyBill \"Sunday Rocker\"</td>\n",
       "      <td>[0, 0]</td>\n",
       "      <td>Nice windscreen protects my MXL mic and preven...</td>\n",
       "      <td>5</td>\n",
       "      <td>GOOD WINDSCREEN FOR THE MONEY</td>\n",
       "      <td>1392336000</td>\n",
       "      <td>02 14, 2014</td>\n",
       "    </tr>\n",
       "    <tr>\n",
       "      <th>4</th>\n",
       "      <td>A94QU4C90B1AX</td>\n",
       "      <td>1384719342</td>\n",
       "      <td>SEAN MASLANKA</td>\n",
       "      <td>[0, 0]</td>\n",
       "      <td>This pop filter is great. It looks and perform...</td>\n",
       "      <td>5</td>\n",
       "      <td>No more pops when I record my vocals.</td>\n",
       "      <td>1392940800</td>\n",
       "      <td>02 21, 2014</td>\n",
       "    </tr>\n",
       "  </tbody>\n",
       "</table>\n",
       "</div>"
      ],
      "text/plain": [
       "        review_id        asin  \\\n",
       "0  A2IBPI20UZIR0U  1384719342   \n",
       "1  A14VAT5EAX3D9S  1384719342   \n",
       "2  A195EZSQDW3E21  1384719342   \n",
       "3  A2C00NNG1ZQQG2  1384719342   \n",
       "4   A94QU4C90B1AX  1384719342   \n",
       "\n",
       "                                        review_name   helpful  \\\n",
       "0  cassandra tu \"Yeah, well, that's just like, u...    [0, 0]   \n",
       "1                                              Jake  [13, 14]   \n",
       "2                     Rick Bennette \"Rick Bennette\"    [1, 1]   \n",
       "3                         RustyBill \"Sunday Rocker\"    [0, 0]   \n",
       "4                                     SEAN MASLANKA    [0, 0]   \n",
       "\n",
       "                                         review_text  overall  \\\n",
       "0  Not much to write about here, but it does exac...        5   \n",
       "1  The product does exactly as it should and is q...        5   \n",
       "2  The primary job of this device is to block the...        5   \n",
       "3  Nice windscreen protects my MXL mic and preven...        5   \n",
       "4  This pop filter is great. It looks and perform...        5   \n",
       "\n",
       "                                 summary  unix_review_time  review_time  \n",
       "0                                   good        1393545600  02 28, 2014  \n",
       "1                                   Jake        1363392000  03 16, 2013  \n",
       "2                   It Does The Job Well        1377648000  08 28, 2013  \n",
       "3          GOOD WINDSCREEN FOR THE MONEY        1392336000  02 14, 2014  \n",
       "4  No more pops when I record my vocals.        1392940800  02 21, 2014  "
      ]
     },
     "execution_count": 5,
     "metadata": {},
     "output_type": "execute_result"
    }
   ],
   "source": [
    "# Renaming columns for ease of reference\n",
    "review = review.rename({'reviewerID':'review_id', 'reviewerName':'review_name', 'reviewText':'review_text', \n",
    "               'unixReviewTime':'unix_review_time', 'reviewTime':'review_time'}, axis = 1)\n",
    "review.head()"
   ]
  },
  {
   "cell_type": "markdown",
   "metadata": {},
   "source": [
    "## Checking for NA values"
   ]
  },
  {
   "cell_type": "code",
   "execution_count": 6,
   "metadata": {
    "ExecuteTime": {
     "end_time": "2021-11-24T09:39:03.607891Z",
     "start_time": "2021-11-24T09:39:03.580001Z"
    }
   },
   "outputs": [
    {
     "data": {
      "text/plain": [
       "review_id            0\n",
       "asin                 0\n",
       "review_name         27\n",
       "helpful              0\n",
       "review_text          7\n",
       "overall              0\n",
       "summary              0\n",
       "unix_review_time     0\n",
       "review_time          0\n",
       "dtype: int64"
      ]
     },
     "execution_count": 6,
     "metadata": {},
     "output_type": "execute_result"
    }
   ],
   "source": [
    "review.isna().sum()"
   ]
  },
  {
   "cell_type": "markdown",
   "metadata": {},
   "source": [
    "**Inference: review_text has 7 missing values**"
   ]
  },
  {
   "cell_type": "markdown",
   "metadata": {},
   "source": [
    "## Missing Value Imputation"
   ]
  },
  {
   "cell_type": "code",
   "execution_count": 7,
   "metadata": {
    "ExecuteTime": {
     "end_time": "2021-11-24T09:39:05.562062Z",
     "start_time": "2021-11-24T09:39:05.546104Z"
    }
   },
   "outputs": [],
   "source": [
    "review['review_text'] = review['review_text'].fillna('Missing')"
   ]
  },
  {
   "cell_type": "markdown",
   "metadata": {},
   "source": [
    "## Concatinating review_text and summary"
   ]
  },
  {
   "cell_type": "code",
   "execution_count": 8,
   "metadata": {
    "ExecuteTime": {
     "end_time": "2021-11-24T09:39:07.408632Z",
     "start_time": "2021-11-24T09:39:07.330841Z"
    }
   },
   "outputs": [
    {
     "data": {
      "text/html": [
       "<div>\n",
       "<style scoped>\n",
       "    .dataframe tbody tr th:only-of-type {\n",
       "        vertical-align: middle;\n",
       "    }\n",
       "\n",
       "    .dataframe tbody tr th {\n",
       "        vertical-align: top;\n",
       "    }\n",
       "\n",
       "    .dataframe thead th {\n",
       "        text-align: right;\n",
       "    }\n",
       "</style>\n",
       "<table border=\"1\" class=\"dataframe\">\n",
       "  <thead>\n",
       "    <tr style=\"text-align: right;\">\n",
       "      <th></th>\n",
       "      <th>review_id</th>\n",
       "      <th>asin</th>\n",
       "      <th>review_name</th>\n",
       "      <th>helpful</th>\n",
       "      <th>review_text</th>\n",
       "      <th>overall</th>\n",
       "      <th>summary</th>\n",
       "      <th>unix_review_time</th>\n",
       "      <th>review_time</th>\n",
       "      <th>reviews</th>\n",
       "    </tr>\n",
       "  </thead>\n",
       "  <tbody>\n",
       "    <tr>\n",
       "      <th>0</th>\n",
       "      <td>A2IBPI20UZIR0U</td>\n",
       "      <td>1384719342</td>\n",
       "      <td>cassandra tu \"Yeah, well, that's just like, u...</td>\n",
       "      <td>[0, 0]</td>\n",
       "      <td>Not much to write about here, but it does exac...</td>\n",
       "      <td>5</td>\n",
       "      <td>good</td>\n",
       "      <td>1393545600</td>\n",
       "      <td>02 28, 2014</td>\n",
       "      <td>Not much to write about here, but it does exac...</td>\n",
       "    </tr>\n",
       "    <tr>\n",
       "      <th>1</th>\n",
       "      <td>A14VAT5EAX3D9S</td>\n",
       "      <td>1384719342</td>\n",
       "      <td>Jake</td>\n",
       "      <td>[13, 14]</td>\n",
       "      <td>The product does exactly as it should and is q...</td>\n",
       "      <td>5</td>\n",
       "      <td>Jake</td>\n",
       "      <td>1363392000</td>\n",
       "      <td>03 16, 2013</td>\n",
       "      <td>The product does exactly as it should and is q...</td>\n",
       "    </tr>\n",
       "    <tr>\n",
       "      <th>2</th>\n",
       "      <td>A195EZSQDW3E21</td>\n",
       "      <td>1384719342</td>\n",
       "      <td>Rick Bennette \"Rick Bennette\"</td>\n",
       "      <td>[1, 1]</td>\n",
       "      <td>The primary job of this device is to block the...</td>\n",
       "      <td>5</td>\n",
       "      <td>It Does The Job Well</td>\n",
       "      <td>1377648000</td>\n",
       "      <td>08 28, 2013</td>\n",
       "      <td>The primary job of this device is to block the...</td>\n",
       "    </tr>\n",
       "    <tr>\n",
       "      <th>3</th>\n",
       "      <td>A2C00NNG1ZQQG2</td>\n",
       "      <td>1384719342</td>\n",
       "      <td>RustyBill \"Sunday Rocker\"</td>\n",
       "      <td>[0, 0]</td>\n",
       "      <td>Nice windscreen protects my MXL mic and preven...</td>\n",
       "      <td>5</td>\n",
       "      <td>GOOD WINDSCREEN FOR THE MONEY</td>\n",
       "      <td>1392336000</td>\n",
       "      <td>02 14, 2014</td>\n",
       "      <td>Nice windscreen protects my MXL mic and preven...</td>\n",
       "    </tr>\n",
       "    <tr>\n",
       "      <th>4</th>\n",
       "      <td>A94QU4C90B1AX</td>\n",
       "      <td>1384719342</td>\n",
       "      <td>SEAN MASLANKA</td>\n",
       "      <td>[0, 0]</td>\n",
       "      <td>This pop filter is great. It looks and perform...</td>\n",
       "      <td>5</td>\n",
       "      <td>No more pops when I record my vocals.</td>\n",
       "      <td>1392940800</td>\n",
       "      <td>02 21, 2014</td>\n",
       "      <td>This pop filter is great. It looks and perform...</td>\n",
       "    </tr>\n",
       "  </tbody>\n",
       "</table>\n",
       "</div>"
      ],
      "text/plain": [
       "        review_id        asin  \\\n",
       "0  A2IBPI20UZIR0U  1384719342   \n",
       "1  A14VAT5EAX3D9S  1384719342   \n",
       "2  A195EZSQDW3E21  1384719342   \n",
       "3  A2C00NNG1ZQQG2  1384719342   \n",
       "4   A94QU4C90B1AX  1384719342   \n",
       "\n",
       "                                        review_name   helpful  \\\n",
       "0  cassandra tu \"Yeah, well, that's just like, u...    [0, 0]   \n",
       "1                                              Jake  [13, 14]   \n",
       "2                     Rick Bennette \"Rick Bennette\"    [1, 1]   \n",
       "3                         RustyBill \"Sunday Rocker\"    [0, 0]   \n",
       "4                                     SEAN MASLANKA    [0, 0]   \n",
       "\n",
       "                                         review_text  overall  \\\n",
       "0  Not much to write about here, but it does exac...        5   \n",
       "1  The product does exactly as it should and is q...        5   \n",
       "2  The primary job of this device is to block the...        5   \n",
       "3  Nice windscreen protects my MXL mic and preven...        5   \n",
       "4  This pop filter is great. It looks and perform...        5   \n",
       "\n",
       "                                 summary  unix_review_time  review_time  \\\n",
       "0                                   good        1393545600  02 28, 2014   \n",
       "1                                   Jake        1363392000  03 16, 2013   \n",
       "2                   It Does The Job Well        1377648000  08 28, 2013   \n",
       "3          GOOD WINDSCREEN FOR THE MONEY        1392336000  02 14, 2014   \n",
       "4  No more pops when I record my vocals.        1392940800  02 21, 2014   \n",
       "\n",
       "                                             reviews  \n",
       "0  Not much to write about here, but it does exac...  \n",
       "1  The product does exactly as it should and is q...  \n",
       "2  The primary job of this device is to block the...  \n",
       "3  Nice windscreen protects my MXL mic and preven...  \n",
       "4  This pop filter is great. It looks and perform...  "
      ]
     },
     "execution_count": 8,
     "metadata": {},
     "output_type": "execute_result"
    }
   ],
   "source": [
    "review['reviews'] = review['review_text'] + review['summary']\n",
    "review.head()"
   ]
  },
  {
   "cell_type": "markdown",
   "metadata": {},
   "source": [
    "## Dropping review_text and summary\n"
   ]
  },
  {
   "cell_type": "code",
   "execution_count": 9,
   "metadata": {
    "ExecuteTime": {
     "end_time": "2021-11-24T09:39:09.029422Z",
     "start_time": "2021-11-24T09:39:08.991526Z"
    }
   },
   "outputs": [
    {
     "data": {
      "text/html": [
       "<div>\n",
       "<style scoped>\n",
       "    .dataframe tbody tr th:only-of-type {\n",
       "        vertical-align: middle;\n",
       "    }\n",
       "\n",
       "    .dataframe tbody tr th {\n",
       "        vertical-align: top;\n",
       "    }\n",
       "\n",
       "    .dataframe thead th {\n",
       "        text-align: right;\n",
       "    }\n",
       "</style>\n",
       "<table border=\"1\" class=\"dataframe\">\n",
       "  <thead>\n",
       "    <tr style=\"text-align: right;\">\n",
       "      <th></th>\n",
       "      <th>review_id</th>\n",
       "      <th>asin</th>\n",
       "      <th>review_name</th>\n",
       "      <th>helpful</th>\n",
       "      <th>overall</th>\n",
       "      <th>unix_review_time</th>\n",
       "      <th>review_time</th>\n",
       "      <th>reviews</th>\n",
       "    </tr>\n",
       "  </thead>\n",
       "  <tbody>\n",
       "    <tr>\n",
       "      <th>0</th>\n",
       "      <td>A2IBPI20UZIR0U</td>\n",
       "      <td>1384719342</td>\n",
       "      <td>cassandra tu \"Yeah, well, that's just like, u...</td>\n",
       "      <td>[0, 0]</td>\n",
       "      <td>5</td>\n",
       "      <td>1393545600</td>\n",
       "      <td>02 28, 2014</td>\n",
       "      <td>Not much to write about here, but it does exac...</td>\n",
       "    </tr>\n",
       "    <tr>\n",
       "      <th>1</th>\n",
       "      <td>A14VAT5EAX3D9S</td>\n",
       "      <td>1384719342</td>\n",
       "      <td>Jake</td>\n",
       "      <td>[13, 14]</td>\n",
       "      <td>5</td>\n",
       "      <td>1363392000</td>\n",
       "      <td>03 16, 2013</td>\n",
       "      <td>The product does exactly as it should and is q...</td>\n",
       "    </tr>\n",
       "    <tr>\n",
       "      <th>2</th>\n",
       "      <td>A195EZSQDW3E21</td>\n",
       "      <td>1384719342</td>\n",
       "      <td>Rick Bennette \"Rick Bennette\"</td>\n",
       "      <td>[1, 1]</td>\n",
       "      <td>5</td>\n",
       "      <td>1377648000</td>\n",
       "      <td>08 28, 2013</td>\n",
       "      <td>The primary job of this device is to block the...</td>\n",
       "    </tr>\n",
       "    <tr>\n",
       "      <th>3</th>\n",
       "      <td>A2C00NNG1ZQQG2</td>\n",
       "      <td>1384719342</td>\n",
       "      <td>RustyBill \"Sunday Rocker\"</td>\n",
       "      <td>[0, 0]</td>\n",
       "      <td>5</td>\n",
       "      <td>1392336000</td>\n",
       "      <td>02 14, 2014</td>\n",
       "      <td>Nice windscreen protects my MXL mic and preven...</td>\n",
       "    </tr>\n",
       "    <tr>\n",
       "      <th>4</th>\n",
       "      <td>A94QU4C90B1AX</td>\n",
       "      <td>1384719342</td>\n",
       "      <td>SEAN MASLANKA</td>\n",
       "      <td>[0, 0]</td>\n",
       "      <td>5</td>\n",
       "      <td>1392940800</td>\n",
       "      <td>02 21, 2014</td>\n",
       "      <td>This pop filter is great. It looks and perform...</td>\n",
       "    </tr>\n",
       "  </tbody>\n",
       "</table>\n",
       "</div>"
      ],
      "text/plain": [
       "        review_id        asin  \\\n",
       "0  A2IBPI20UZIR0U  1384719342   \n",
       "1  A14VAT5EAX3D9S  1384719342   \n",
       "2  A195EZSQDW3E21  1384719342   \n",
       "3  A2C00NNG1ZQQG2  1384719342   \n",
       "4   A94QU4C90B1AX  1384719342   \n",
       "\n",
       "                                        review_name   helpful  overall  \\\n",
       "0  cassandra tu \"Yeah, well, that's just like, u...    [0, 0]        5   \n",
       "1                                              Jake  [13, 14]        5   \n",
       "2                     Rick Bennette \"Rick Bennette\"    [1, 1]        5   \n",
       "3                         RustyBill \"Sunday Rocker\"    [0, 0]        5   \n",
       "4                                     SEAN MASLANKA    [0, 0]        5   \n",
       "\n",
       "   unix_review_time  review_time  \\\n",
       "0        1393545600  02 28, 2014   \n",
       "1        1363392000  03 16, 2013   \n",
       "2        1377648000  08 28, 2013   \n",
       "3        1392336000  02 14, 2014   \n",
       "4        1392940800  02 21, 2014   \n",
       "\n",
       "                                             reviews  \n",
       "0  Not much to write about here, but it does exac...  \n",
       "1  The product does exactly as it should and is q...  \n",
       "2  The primary job of this device is to block the...  \n",
       "3  Nice windscreen protects my MXL mic and preven...  \n",
       "4  This pop filter is great. It looks and perform...  "
      ]
     },
     "execution_count": 9,
     "metadata": {},
     "output_type": "execute_result"
    }
   ],
   "source": [
    "review = review.drop(['review_text', 'summary'], axis = 1)\n",
    "review.head()"
   ]
  },
  {
   "cell_type": "code",
   "execution_count": 10,
   "metadata": {
    "ExecuteTime": {
     "end_time": "2021-11-24T09:39:10.016675Z",
     "start_time": "2021-11-24T09:39:09.903972Z"
    }
   },
   "outputs": [
    {
     "data": {
      "text/html": [
       "<div>\n",
       "<style scoped>\n",
       "    .dataframe tbody tr th:only-of-type {\n",
       "        vertical-align: middle;\n",
       "    }\n",
       "\n",
       "    .dataframe tbody tr th {\n",
       "        vertical-align: top;\n",
       "    }\n",
       "\n",
       "    .dataframe thead th {\n",
       "        text-align: right;\n",
       "    }\n",
       "</style>\n",
       "<table border=\"1\" class=\"dataframe\">\n",
       "  <thead>\n",
       "    <tr style=\"text-align: right;\">\n",
       "      <th></th>\n",
       "      <th>review_id</th>\n",
       "      <th>asin</th>\n",
       "      <th>review_name</th>\n",
       "      <th>helpful</th>\n",
       "      <th>overall</th>\n",
       "      <th>unix_review_time</th>\n",
       "      <th>reviews</th>\n",
       "      <th>date</th>\n",
       "      <th>year</th>\n",
       "    </tr>\n",
       "  </thead>\n",
       "  <tbody>\n",
       "    <tr>\n",
       "      <th>0</th>\n",
       "      <td>A2IBPI20UZIR0U</td>\n",
       "      <td>1384719342</td>\n",
       "      <td>cassandra tu \"Yeah, well, that's just like, u...</td>\n",
       "      <td>[0, 0]</td>\n",
       "      <td>5</td>\n",
       "      <td>1393545600</td>\n",
       "      <td>Not much to write about here, but it does exac...</td>\n",
       "      <td>02 28</td>\n",
       "      <td>2014</td>\n",
       "    </tr>\n",
       "    <tr>\n",
       "      <th>1</th>\n",
       "      <td>A14VAT5EAX3D9S</td>\n",
       "      <td>1384719342</td>\n",
       "      <td>Jake</td>\n",
       "      <td>[13, 14]</td>\n",
       "      <td>5</td>\n",
       "      <td>1363392000</td>\n",
       "      <td>The product does exactly as it should and is q...</td>\n",
       "      <td>03 16</td>\n",
       "      <td>2013</td>\n",
       "    </tr>\n",
       "    <tr>\n",
       "      <th>2</th>\n",
       "      <td>A195EZSQDW3E21</td>\n",
       "      <td>1384719342</td>\n",
       "      <td>Rick Bennette \"Rick Bennette\"</td>\n",
       "      <td>[1, 1]</td>\n",
       "      <td>5</td>\n",
       "      <td>1377648000</td>\n",
       "      <td>The primary job of this device is to block the...</td>\n",
       "      <td>08 28</td>\n",
       "      <td>2013</td>\n",
       "    </tr>\n",
       "    <tr>\n",
       "      <th>3</th>\n",
       "      <td>A2C00NNG1ZQQG2</td>\n",
       "      <td>1384719342</td>\n",
       "      <td>RustyBill \"Sunday Rocker\"</td>\n",
       "      <td>[0, 0]</td>\n",
       "      <td>5</td>\n",
       "      <td>1392336000</td>\n",
       "      <td>Nice windscreen protects my MXL mic and preven...</td>\n",
       "      <td>02 14</td>\n",
       "      <td>2014</td>\n",
       "    </tr>\n",
       "    <tr>\n",
       "      <th>4</th>\n",
       "      <td>A94QU4C90B1AX</td>\n",
       "      <td>1384719342</td>\n",
       "      <td>SEAN MASLANKA</td>\n",
       "      <td>[0, 0]</td>\n",
       "      <td>5</td>\n",
       "      <td>1392940800</td>\n",
       "      <td>This pop filter is great. It looks and perform...</td>\n",
       "      <td>02 21</td>\n",
       "      <td>2014</td>\n",
       "    </tr>\n",
       "  </tbody>\n",
       "</table>\n",
       "</div>"
      ],
      "text/plain": [
       "        review_id        asin  \\\n",
       "0  A2IBPI20UZIR0U  1384719342   \n",
       "1  A14VAT5EAX3D9S  1384719342   \n",
       "2  A195EZSQDW3E21  1384719342   \n",
       "3  A2C00NNG1ZQQG2  1384719342   \n",
       "4   A94QU4C90B1AX  1384719342   \n",
       "\n",
       "                                        review_name   helpful  overall  \\\n",
       "0  cassandra tu \"Yeah, well, that's just like, u...    [0, 0]        5   \n",
       "1                                              Jake  [13, 14]        5   \n",
       "2                     Rick Bennette \"Rick Bennette\"    [1, 1]        5   \n",
       "3                         RustyBill \"Sunday Rocker\"    [0, 0]        5   \n",
       "4                                     SEAN MASLANKA    [0, 0]        5   \n",
       "\n",
       "   unix_review_time                                            reviews   date  \\\n",
       "0        1393545600  Not much to write about here, but it does exac...  02 28   \n",
       "1        1363392000  The product does exactly as it should and is q...  03 16   \n",
       "2        1377648000  The primary job of this device is to block the...  08 28   \n",
       "3        1392336000  Nice windscreen protects my MXL mic and preven...  02 14   \n",
       "4        1392940800  This pop filter is great. It looks and perform...  02 21   \n",
       "\n",
       "    year  \n",
       "0   2014  \n",
       "1   2013  \n",
       "2   2013  \n",
       "3   2014  \n",
       "4   2014  "
      ]
     },
     "execution_count": 10,
     "metadata": {},
     "output_type": "execute_result"
    }
   ],
   "source": [
    "# Handling review_time column\n",
    "'''Here we have an unusual review time column which has date and year, once we split both we will split the date \n",
    "further into month and date '''\n",
    "\n",
    "# new data frame which has date and year\n",
    "new = review[\"review_time\"].str.split(\",\", n = 1, expand = True) \n",
    "  \n",
    "# making separate date column from new data frame \n",
    "review[\"date\"]= new[0] \n",
    "  \n",
    "# making separate year column from new data frame \n",
    "review[\"year\"]= new[1] \n",
    "\n",
    "review=review.drop(['review_time'], axis=1)\n",
    "review.head()\n"
   ]
  },
  {
   "cell_type": "code",
   "execution_count": 11,
   "metadata": {
    "ExecuteTime": {
     "end_time": "2021-11-24T09:39:10.863910Z",
     "start_time": "2021-11-24T09:39:10.773151Z"
    }
   },
   "outputs": [
    {
     "data": {
      "text/html": [
       "<div>\n",
       "<style scoped>\n",
       "    .dataframe tbody tr th:only-of-type {\n",
       "        vertical-align: middle;\n",
       "    }\n",
       "\n",
       "    .dataframe tbody tr th {\n",
       "        vertical-align: top;\n",
       "    }\n",
       "\n",
       "    .dataframe thead th {\n",
       "        text-align: right;\n",
       "    }\n",
       "</style>\n",
       "<table border=\"1\" class=\"dataframe\">\n",
       "  <thead>\n",
       "    <tr style=\"text-align: right;\">\n",
       "      <th></th>\n",
       "      <th>review_id</th>\n",
       "      <th>asin</th>\n",
       "      <th>review_name</th>\n",
       "      <th>helpful</th>\n",
       "      <th>overall</th>\n",
       "      <th>unix_review_time</th>\n",
       "      <th>reviews</th>\n",
       "      <th>year</th>\n",
       "      <th>month</th>\n",
       "      <th>day</th>\n",
       "    </tr>\n",
       "  </thead>\n",
       "  <tbody>\n",
       "    <tr>\n",
       "      <th>0</th>\n",
       "      <td>A2IBPI20UZIR0U</td>\n",
       "      <td>1384719342</td>\n",
       "      <td>cassandra tu \"Yeah, well, that's just like, u...</td>\n",
       "      <td>[0, 0]</td>\n",
       "      <td>5</td>\n",
       "      <td>1393545600</td>\n",
       "      <td>Not much to write about here, but it does exac...</td>\n",
       "      <td>2014</td>\n",
       "      <td>02</td>\n",
       "      <td>28</td>\n",
       "    </tr>\n",
       "    <tr>\n",
       "      <th>1</th>\n",
       "      <td>A14VAT5EAX3D9S</td>\n",
       "      <td>1384719342</td>\n",
       "      <td>Jake</td>\n",
       "      <td>[13, 14]</td>\n",
       "      <td>5</td>\n",
       "      <td>1363392000</td>\n",
       "      <td>The product does exactly as it should and is q...</td>\n",
       "      <td>2013</td>\n",
       "      <td>03</td>\n",
       "      <td>16</td>\n",
       "    </tr>\n",
       "    <tr>\n",
       "      <th>2</th>\n",
       "      <td>A195EZSQDW3E21</td>\n",
       "      <td>1384719342</td>\n",
       "      <td>Rick Bennette \"Rick Bennette\"</td>\n",
       "      <td>[1, 1]</td>\n",
       "      <td>5</td>\n",
       "      <td>1377648000</td>\n",
       "      <td>The primary job of this device is to block the...</td>\n",
       "      <td>2013</td>\n",
       "      <td>08</td>\n",
       "      <td>28</td>\n",
       "    </tr>\n",
       "    <tr>\n",
       "      <th>3</th>\n",
       "      <td>A2C00NNG1ZQQG2</td>\n",
       "      <td>1384719342</td>\n",
       "      <td>RustyBill \"Sunday Rocker\"</td>\n",
       "      <td>[0, 0]</td>\n",
       "      <td>5</td>\n",
       "      <td>1392336000</td>\n",
       "      <td>Nice windscreen protects my MXL mic and preven...</td>\n",
       "      <td>2014</td>\n",
       "      <td>02</td>\n",
       "      <td>14</td>\n",
       "    </tr>\n",
       "    <tr>\n",
       "      <th>4</th>\n",
       "      <td>A94QU4C90B1AX</td>\n",
       "      <td>1384719342</td>\n",
       "      <td>SEAN MASLANKA</td>\n",
       "      <td>[0, 0]</td>\n",
       "      <td>5</td>\n",
       "      <td>1392940800</td>\n",
       "      <td>This pop filter is great. It looks and perform...</td>\n",
       "      <td>2014</td>\n",
       "      <td>02</td>\n",
       "      <td>21</td>\n",
       "    </tr>\n",
       "  </tbody>\n",
       "</table>\n",
       "</div>"
      ],
      "text/plain": [
       "        review_id        asin  \\\n",
       "0  A2IBPI20UZIR0U  1384719342   \n",
       "1  A14VAT5EAX3D9S  1384719342   \n",
       "2  A195EZSQDW3E21  1384719342   \n",
       "3  A2C00NNG1ZQQG2  1384719342   \n",
       "4   A94QU4C90B1AX  1384719342   \n",
       "\n",
       "                                        review_name   helpful  overall  \\\n",
       "0  cassandra tu \"Yeah, well, that's just like, u...    [0, 0]        5   \n",
       "1                                              Jake  [13, 14]        5   \n",
       "2                     Rick Bennette \"Rick Bennette\"    [1, 1]        5   \n",
       "3                         RustyBill \"Sunday Rocker\"    [0, 0]        5   \n",
       "4                                     SEAN MASLANKA    [0, 0]        5   \n",
       "\n",
       "   unix_review_time                                            reviews   year  \\\n",
       "0        1393545600  Not much to write about here, but it does exac...   2014   \n",
       "1        1363392000  The product does exactly as it should and is q...   2013   \n",
       "2        1377648000  The primary job of this device is to block the...   2013   \n",
       "3        1392336000  Nice windscreen protects my MXL mic and preven...   2014   \n",
       "4        1392940800  This pop filter is great. It looks and perform...   2014   \n",
       "\n",
       "  month day  \n",
       "0    02  28  \n",
       "1    03  16  \n",
       "2    08  28  \n",
       "3    02  14  \n",
       "4    02  21  "
      ]
     },
     "execution_count": 11,
     "metadata": {},
     "output_type": "execute_result"
    }
   ],
   "source": [
    "# Splitting the date \n",
    "new1 = review[\"date\"].str.split(\" \", n = 1, expand = True) \n",
    "  \n",
    "# adding month to the main dataset \n",
    "review[\"month\"]= new1[0] \n",
    "  \n",
    "# adding day to the main dataset \n",
    "review[\"day\"]= new1[1] \n",
    "\n",
    "review=review.drop(['date'], axis=1)\n",
    "review.head()"
   ]
  },
  {
   "cell_type": "markdown",
   "metadata": {},
   "source": [
    "## Removing unnecessary columns"
   ]
  },
  {
   "cell_type": "code",
   "execution_count": 12,
   "metadata": {
    "ExecuteTime": {
     "end_time": "2021-11-24T09:39:12.551285Z",
     "start_time": "2021-11-24T09:39:12.535660Z"
    }
   },
   "outputs": [],
   "source": [
    "review=review.drop(['review_name','unix_review_time'], axis=1)\n",
    "#Creating a copy \n",
    "clean_reviews=review.copy()"
   ]
  },
  {
   "cell_type": "code",
   "execution_count": 13,
   "metadata": {
    "ExecuteTime": {
     "end_time": "2021-11-24T09:39:13.349415Z",
     "start_time": "2021-11-24T09:39:13.341436Z"
    }
   },
   "outputs": [],
   "source": [
    "import re"
   ]
  },
  {
   "cell_type": "code",
   "execution_count": 14,
   "metadata": {
    "ExecuteTime": {
     "end_time": "2021-11-24T09:39:14.118710Z",
     "start_time": "2021-11-24T09:39:14.099727Z"
    }
   },
   "outputs": [],
   "source": [
    "def review_cleaning(text):\n",
    "    '''Make text lowercase, remove text in square brackets,remove links,remove punctuation\n",
    "    and remove words containing numbers.'''\n",
    "    text = str(text).lower()\n",
    "    text = re.sub('\\[.*?\\]', '', text)\n",
    "    text = re.sub('https?://\\S+|www\\.\\S+', '', text)\n",
    "    text = re.sub('<.*?>+', '', text)\n",
    "    text = re.sub('[%s]' % re.escape(string.punctuation), '', text)\n",
    "    text = re.sub('\\n', '', text)\n",
    "    text = re.sub('\\w*\\d\\w*', '', text)\n",
    "    return text"
   ]
  },
  {
   "cell_type": "code",
   "execution_count": 15,
   "metadata": {
    "ExecuteTime": {
     "end_time": "2021-11-24T09:39:16.379056Z",
     "start_time": "2021-11-24T09:39:15.174439Z"
    }
   },
   "outputs": [],
   "source": [
    "review['reviews'] = review['reviews'].apply(lambda x: review_cleaning(x))\n"
   ]
  },
  {
   "cell_type": "code",
   "execution_count": 16,
   "metadata": {
    "ExecuteTime": {
     "end_time": "2021-11-24T09:39:18.590507Z",
     "start_time": "2021-11-24T09:39:18.555605Z"
    }
   },
   "outputs": [
    {
     "data": {
      "text/html": [
       "<div>\n",
       "<style scoped>\n",
       "    .dataframe tbody tr th:only-of-type {\n",
       "        vertical-align: middle;\n",
       "    }\n",
       "\n",
       "    .dataframe tbody tr th {\n",
       "        vertical-align: top;\n",
       "    }\n",
       "\n",
       "    .dataframe thead th {\n",
       "        text-align: right;\n",
       "    }\n",
       "</style>\n",
       "<table border=\"1\" class=\"dataframe\">\n",
       "  <thead>\n",
       "    <tr style=\"text-align: right;\">\n",
       "      <th></th>\n",
       "      <th>review_id</th>\n",
       "      <th>asin</th>\n",
       "      <th>helpful</th>\n",
       "      <th>overall</th>\n",
       "      <th>reviews</th>\n",
       "      <th>year</th>\n",
       "      <th>month</th>\n",
       "      <th>day</th>\n",
       "    </tr>\n",
       "  </thead>\n",
       "  <tbody>\n",
       "    <tr>\n",
       "      <th>0</th>\n",
       "      <td>A2IBPI20UZIR0U</td>\n",
       "      <td>1384719342</td>\n",
       "      <td>[0, 0]</td>\n",
       "      <td>5</td>\n",
       "      <td>not much to write about here but it does exact...</td>\n",
       "      <td>2014</td>\n",
       "      <td>02</td>\n",
       "      <td>28</td>\n",
       "    </tr>\n",
       "    <tr>\n",
       "      <th>1</th>\n",
       "      <td>A14VAT5EAX3D9S</td>\n",
       "      <td>1384719342</td>\n",
       "      <td>[13, 14]</td>\n",
       "      <td>5</td>\n",
       "      <td>the product does exactly as it should and is q...</td>\n",
       "      <td>2013</td>\n",
       "      <td>03</td>\n",
       "      <td>16</td>\n",
       "    </tr>\n",
       "    <tr>\n",
       "      <th>2</th>\n",
       "      <td>A195EZSQDW3E21</td>\n",
       "      <td>1384719342</td>\n",
       "      <td>[1, 1]</td>\n",
       "      <td>5</td>\n",
       "      <td>the primary job of this device is to block the...</td>\n",
       "      <td>2013</td>\n",
       "      <td>08</td>\n",
       "      <td>28</td>\n",
       "    </tr>\n",
       "    <tr>\n",
       "      <th>3</th>\n",
       "      <td>A2C00NNG1ZQQG2</td>\n",
       "      <td>1384719342</td>\n",
       "      <td>[0, 0]</td>\n",
       "      <td>5</td>\n",
       "      <td>nice windscreen protects my mxl mic and preven...</td>\n",
       "      <td>2014</td>\n",
       "      <td>02</td>\n",
       "      <td>14</td>\n",
       "    </tr>\n",
       "    <tr>\n",
       "      <th>4</th>\n",
       "      <td>A94QU4C90B1AX</td>\n",
       "      <td>1384719342</td>\n",
       "      <td>[0, 0]</td>\n",
       "      <td>5</td>\n",
       "      <td>this pop filter is great it looks and performs...</td>\n",
       "      <td>2014</td>\n",
       "      <td>02</td>\n",
       "      <td>21</td>\n",
       "    </tr>\n",
       "  </tbody>\n",
       "</table>\n",
       "</div>"
      ],
      "text/plain": [
       "        review_id        asin   helpful  overall  \\\n",
       "0  A2IBPI20UZIR0U  1384719342    [0, 0]        5   \n",
       "1  A14VAT5EAX3D9S  1384719342  [13, 14]        5   \n",
       "2  A195EZSQDW3E21  1384719342    [1, 1]        5   \n",
       "3  A2C00NNG1ZQQG2  1384719342    [0, 0]        5   \n",
       "4   A94QU4C90B1AX  1384719342    [0, 0]        5   \n",
       "\n",
       "                                             reviews   year month day  \n",
       "0  not much to write about here but it does exact...   2014    02  28  \n",
       "1  the product does exactly as it should and is q...   2013    03  16  \n",
       "2  the primary job of this device is to block the...   2013    08  28  \n",
       "3  nice windscreen protects my mxl mic and preven...   2014    02  14  \n",
       "4  this pop filter is great it looks and performs...   2014    02  21  "
      ]
     },
     "execution_count": 16,
     "metadata": {},
     "output_type": "execute_result"
    }
   ],
   "source": [
    "review.head()\n"
   ]
  },
  {
   "cell_type": "markdown",
   "metadata": {},
   "source": [
    "## Stopwords"
   ]
  },
  {
   "cell_type": "code",
   "execution_count": 17,
   "metadata": {
    "ExecuteTime": {
     "end_time": "2021-11-24T09:39:22.480136Z",
     "start_time": "2021-11-24T09:39:19.800527Z"
    }
   },
   "outputs": [
    {
     "name": "stderr",
     "output_type": "stream",
     "text": [
      "[nltk_data] Downloading package punkt to\n",
      "[nltk_data]     C:\\Users\\Chetana\\AppData\\Roaming\\nltk_data...\n",
      "[nltk_data]   Package punkt is already up-to-date!\n",
      "[nltk_data] Downloading package stopwords to\n",
      "[nltk_data]     C:\\Users\\Chetana\\AppData\\Roaming\\nltk_data...\n",
      "[nltk_data]   Package stopwords is already up-to-date!\n"
     ]
    },
    {
     "data": {
      "text/plain": [
       "True"
      ]
     },
     "execution_count": 17,
     "metadata": {},
     "output_type": "execute_result"
    }
   ],
   "source": [
    "import nltk\n",
    "nltk.download('punkt')\n",
    "from nltk.corpus import stopwords\n",
    "nltk.download('stopwords')"
   ]
  },
  {
   "cell_type": "code",
   "execution_count": 18,
   "metadata": {
    "ExecuteTime": {
     "end_time": "2021-11-24T09:39:22.716471Z",
     "start_time": "2021-11-24T09:39:22.703504Z"
    }
   },
   "outputs": [],
   "source": [
    "stop_words= ['yourselves', 'between', 'whom', 'itself', 'is', \"she's\", 'up', 'herself', 'here', 'your', 'each', \n",
    "             'we', 'he', 'my', \"you've\", 'having', 'in', 'both', 'for', 'themselves', 'are', 'them', 'other',\n",
    "             'and', 'an', 'during', 'their', 'can', 'yourself', 'she', 'until', 'so', 'these', 'ours', 'above', \n",
    "             'what', 'while', 'have', 're', 'more', 'only', \"needn't\", 'when', 'just', 'that', 'were', \"don't\", \n",
    "             'very', 'should', 'any', 'y', 'isn', 'who',  'a', 'they', 'to', 'too', \"should've\", 'has', 'before',\n",
    "             'into', 'yours', \"it's\", 'do', 'against', 'on',  'now', 'her', 've', 'd', 'by', 'am', 'from', \n",
    "             'about', 'further', \"that'll\", \"you'd\", 'you', 'as', 'how', 'been', 'the', 'or', 'doing', 'such',\n",
    "             'his', 'himself', 'ourselves',  'was', 'through', 'out', 'below', 'own', 'myself', 'theirs', \n",
    "             'me', 'why', 'once',  'him', 'than', 'be', 'most', \"you'll\", 'same', 'some', 'with', 'few', 'it',\n",
    "             'at', 'after', 'its', 'which', 'there','our', 'this', 'hers', 'being', 'did', 'of', 'had', 'under',\n",
    "             'over','again', 'where', 'those', 'then', \"you're\", 'i', 'because', 'does', 'all']"
   ]
  },
  {
   "cell_type": "code",
   "execution_count": 19,
   "metadata": {
    "ExecuteTime": {
     "end_time": "2021-11-24T09:39:25.828469Z",
     "start_time": "2021-11-24T09:39:23.477185Z"
    }
   },
   "outputs": [
    {
     "data": {
      "text/html": [
       "<div>\n",
       "<style scoped>\n",
       "    .dataframe tbody tr th:only-of-type {\n",
       "        vertical-align: middle;\n",
       "    }\n",
       "\n",
       "    .dataframe tbody tr th {\n",
       "        vertical-align: top;\n",
       "    }\n",
       "\n",
       "    .dataframe thead th {\n",
       "        text-align: right;\n",
       "    }\n",
       "</style>\n",
       "<table border=\"1\" class=\"dataframe\">\n",
       "  <thead>\n",
       "    <tr style=\"text-align: right;\">\n",
       "      <th></th>\n",
       "      <th>review_id</th>\n",
       "      <th>asin</th>\n",
       "      <th>helpful</th>\n",
       "      <th>overall</th>\n",
       "      <th>reviews</th>\n",
       "      <th>year</th>\n",
       "      <th>month</th>\n",
       "      <th>day</th>\n",
       "    </tr>\n",
       "  </thead>\n",
       "  <tbody>\n",
       "    <tr>\n",
       "      <th>0</th>\n",
       "      <td>A2IBPI20UZIR0U</td>\n",
       "      <td>1384719342</td>\n",
       "      <td>[0, 0]</td>\n",
       "      <td>5</td>\n",
       "      <td>not much write but exactly supposed filters po...</td>\n",
       "      <td>2014</td>\n",
       "      <td>02</td>\n",
       "      <td>28</td>\n",
       "    </tr>\n",
       "    <tr>\n",
       "      <th>1</th>\n",
       "      <td>A14VAT5EAX3D9S</td>\n",
       "      <td>1384719342</td>\n",
       "      <td>[13, 14]</td>\n",
       "      <td>5</td>\n",
       "      <td>product exactly quite affordablei not realized...</td>\n",
       "      <td>2013</td>\n",
       "      <td>03</td>\n",
       "      <td>16</td>\n",
       "    </tr>\n",
       "    <tr>\n",
       "      <th>2</th>\n",
       "      <td>A195EZSQDW3E21</td>\n",
       "      <td>1384719342</td>\n",
       "      <td>[1, 1]</td>\n",
       "      <td>5</td>\n",
       "      <td>primary job device block breath would otherwis...</td>\n",
       "      <td>2013</td>\n",
       "      <td>08</td>\n",
       "      <td>28</td>\n",
       "    </tr>\n",
       "    <tr>\n",
       "      <th>3</th>\n",
       "      <td>A2C00NNG1ZQQG2</td>\n",
       "      <td>1384719342</td>\n",
       "      <td>[0, 0]</td>\n",
       "      <td>5</td>\n",
       "      <td>nice windscreen protects mxl mic prevents pops...</td>\n",
       "      <td>2014</td>\n",
       "      <td>02</td>\n",
       "      <td>14</td>\n",
       "    </tr>\n",
       "    <tr>\n",
       "      <th>4</th>\n",
       "      <td>A94QU4C90B1AX</td>\n",
       "      <td>1384719342</td>\n",
       "      <td>[0, 0]</td>\n",
       "      <td>5</td>\n",
       "      <td>pop filter great looks performs like studio fi...</td>\n",
       "      <td>2014</td>\n",
       "      <td>02</td>\n",
       "      <td>21</td>\n",
       "    </tr>\n",
       "  </tbody>\n",
       "</table>\n",
       "</div>"
      ],
      "text/plain": [
       "        review_id        asin   helpful  overall  \\\n",
       "0  A2IBPI20UZIR0U  1384719342    [0, 0]        5   \n",
       "1  A14VAT5EAX3D9S  1384719342  [13, 14]        5   \n",
       "2  A195EZSQDW3E21  1384719342    [1, 1]        5   \n",
       "3  A2C00NNG1ZQQG2  1384719342    [0, 0]        5   \n",
       "4   A94QU4C90B1AX  1384719342    [0, 0]        5   \n",
       "\n",
       "                                             reviews   year month day  \n",
       "0  not much write but exactly supposed filters po...   2014    02  28  \n",
       "1  product exactly quite affordablei not realized...   2013    03  16  \n",
       "2  primary job device block breath would otherwis...   2013    08  28  \n",
       "3  nice windscreen protects mxl mic prevents pops...   2014    02  14  \n",
       "4  pop filter great looks performs like studio fi...   2014    02  21  "
      ]
     },
     "execution_count": 19,
     "metadata": {},
     "output_type": "execute_result"
    }
   ],
   "source": [
    "review['reviews'] = review['reviews'].apply(lambda x: ' '.join(\n",
    "    [word for word in x.split() if word not in (stop_words)]))\n",
    "review.head()"
   ]
  },
  {
   "cell_type": "markdown",
   "metadata": {},
   "source": [
    "## Calculating sentiment value for reviews\n"
   ]
  },
  {
   "cell_type": "code",
   "execution_count": 20,
   "metadata": {
    "ExecuteTime": {
     "end_time": "2021-11-24T09:39:26.067860Z",
     "start_time": "2021-11-24T09:39:26.039903Z"
    }
   },
   "outputs": [
    {
     "data": {
      "text/plain": [
       "(2477, 2)"
      ]
     },
     "execution_count": 20,
     "metadata": {},
     "output_type": "execute_result"
    }
   ],
   "source": [
    "afinn = pd.read_csv('Afinn.csv', sep=',', encoding='latin-1')\n",
    "afinn.shape"
   ]
  },
  {
   "cell_type": "code",
   "execution_count": 21,
   "metadata": {
    "ExecuteTime": {
     "end_time": "2021-11-24T09:39:26.498250Z",
     "start_time": "2021-11-24T09:39:26.469331Z"
    }
   },
   "outputs": [
    {
     "data": {
      "text/html": [
       "<div>\n",
       "<style scoped>\n",
       "    .dataframe tbody tr th:only-of-type {\n",
       "        vertical-align: middle;\n",
       "    }\n",
       "\n",
       "    .dataframe tbody tr th {\n",
       "        vertical-align: top;\n",
       "    }\n",
       "\n",
       "    .dataframe thead th {\n",
       "        text-align: right;\n",
       "    }\n",
       "</style>\n",
       "<table border=\"1\" class=\"dataframe\">\n",
       "  <thead>\n",
       "    <tr style=\"text-align: right;\">\n",
       "      <th></th>\n",
       "      <th>word</th>\n",
       "      <th>value</th>\n",
       "    </tr>\n",
       "  </thead>\n",
       "  <tbody>\n",
       "    <tr>\n",
       "      <th>0</th>\n",
       "      <td>abandon</td>\n",
       "      <td>-2</td>\n",
       "    </tr>\n",
       "    <tr>\n",
       "      <th>1</th>\n",
       "      <td>abandoned</td>\n",
       "      <td>-2</td>\n",
       "    </tr>\n",
       "    <tr>\n",
       "      <th>2</th>\n",
       "      <td>abandons</td>\n",
       "      <td>-2</td>\n",
       "    </tr>\n",
       "    <tr>\n",
       "      <th>3</th>\n",
       "      <td>abducted</td>\n",
       "      <td>-2</td>\n",
       "    </tr>\n",
       "    <tr>\n",
       "      <th>4</th>\n",
       "      <td>abduction</td>\n",
       "      <td>-2</td>\n",
       "    </tr>\n",
       "  </tbody>\n",
       "</table>\n",
       "</div>"
      ],
      "text/plain": [
       "        word  value\n",
       "0    abandon     -2\n",
       "1  abandoned     -2\n",
       "2   abandons     -2\n",
       "3   abducted     -2\n",
       "4  abduction     -2"
      ]
     },
     "execution_count": 21,
     "metadata": {},
     "output_type": "execute_result"
    }
   ],
   "source": [
    "afinn.head()\n"
   ]
  },
  {
   "cell_type": "code",
   "execution_count": 22,
   "metadata": {
    "ExecuteTime": {
     "end_time": "2021-11-24T09:39:27.405844Z",
     "start_time": "2021-11-24T09:39:27.387925Z"
    }
   },
   "outputs": [],
   "source": [
    "affinity_scores = afinn.set_index('word')['value'].to_dict()"
   ]
  },
  {
   "cell_type": "code",
   "execution_count": 23,
   "metadata": {
    "ExecuteTime": {
     "end_time": "2021-11-24T09:39:29.178256Z",
     "start_time": "2021-11-24T09:39:28.236668Z"
    }
   },
   "outputs": [],
   "source": [
    "#Custom function :score each word in a sentence in lemmatised form, \n",
    "#but calculate the score for the whole original sentence.\n",
    "nlp = spacy.load(\"en_core_web_sm\")\n",
    "sentiment_lexicon = affinity_scores\n",
    "\n",
    "def calculate_sentiment(text: str = None):\n",
    "    sent_score = 0\n",
    "    if text:\n",
    "        sentence = nlp(text)\n",
    "        for word in sentence:\n",
    "            sent_score += sentiment_lexicon.get(word.lemma_, 0)\n",
    "    return sent_score"
   ]
  },
  {
   "cell_type": "code",
   "execution_count": 24,
   "metadata": {
    "ExecuteTime": {
     "end_time": "2021-11-24T09:39:29.647114Z",
     "start_time": "2021-11-24T09:39:29.622180Z"
    }
   },
   "outputs": [
    {
     "data": {
      "text/plain": [
       "3"
      ]
     },
     "execution_count": 24,
     "metadata": {},
     "output_type": "execute_result"
    }
   ],
   "source": [
    "# test that it works\n",
    "calculate_sentiment(text = 'nice')"
   ]
  },
  {
   "cell_type": "code",
   "execution_count": 26,
   "metadata": {
    "ExecuteTime": {
     "end_time": "2021-11-24T09:44:38.483263Z",
     "start_time": "2021-11-24T09:41:52.053364Z"
    }
   },
   "outputs": [],
   "source": [
    "review['sentiment_value'] = review['reviews'].apply(calculate_sentiment)"
   ]
  },
  {
   "cell_type": "code",
   "execution_count": 27,
   "metadata": {
    "ExecuteTime": {
     "end_time": "2021-11-24T09:45:23.006227Z",
     "start_time": "2021-11-24T09:45:22.955329Z"
    }
   },
   "outputs": [
    {
     "data": {
      "text/html": [
       "<div>\n",
       "<style scoped>\n",
       "    .dataframe tbody tr th:only-of-type {\n",
       "        vertical-align: middle;\n",
       "    }\n",
       "\n",
       "    .dataframe tbody tr th {\n",
       "        vertical-align: top;\n",
       "    }\n",
       "\n",
       "    .dataframe thead th {\n",
       "        text-align: right;\n",
       "    }\n",
       "</style>\n",
       "<table border=\"1\" class=\"dataframe\">\n",
       "  <thead>\n",
       "    <tr style=\"text-align: right;\">\n",
       "      <th></th>\n",
       "      <th>review_id</th>\n",
       "      <th>asin</th>\n",
       "      <th>helpful</th>\n",
       "      <th>overall</th>\n",
       "      <th>reviews</th>\n",
       "      <th>year</th>\n",
       "      <th>month</th>\n",
       "      <th>day</th>\n",
       "      <th>sentiment_value</th>\n",
       "    </tr>\n",
       "  </thead>\n",
       "  <tbody>\n",
       "    <tr>\n",
       "      <th>0</th>\n",
       "      <td>A2IBPI20UZIR0U</td>\n",
       "      <td>1384719342</td>\n",
       "      <td>[0, 0]</td>\n",
       "      <td>5</td>\n",
       "      <td>not much write but exactly supposed filters po...</td>\n",
       "      <td>2014</td>\n",
       "      <td>02</td>\n",
       "      <td>28</td>\n",
       "      <td>0</td>\n",
       "    </tr>\n",
       "    <tr>\n",
       "      <th>1</th>\n",
       "      <td>A14VAT5EAX3D9S</td>\n",
       "      <td>1384719342</td>\n",
       "      <td>[13, 14]</td>\n",
       "      <td>5</td>\n",
       "      <td>product exactly quite affordablei not realized...</td>\n",
       "      <td>2013</td>\n",
       "      <td>03</td>\n",
       "      <td>16</td>\n",
       "      <td>2</td>\n",
       "    </tr>\n",
       "    <tr>\n",
       "      <th>2</th>\n",
       "      <td>A195EZSQDW3E21</td>\n",
       "      <td>1384719342</td>\n",
       "      <td>[1, 1]</td>\n",
       "      <td>5</td>\n",
       "      <td>primary job device block breath would otherwis...</td>\n",
       "      <td>2013</td>\n",
       "      <td>08</td>\n",
       "      <td>28</td>\n",
       "      <td>-1</td>\n",
       "    </tr>\n",
       "    <tr>\n",
       "      <th>3</th>\n",
       "      <td>A2C00NNG1ZQQG2</td>\n",
       "      <td>1384719342</td>\n",
       "      <td>[0, 0]</td>\n",
       "      <td>5</td>\n",
       "      <td>nice windscreen protects mxl mic prevents pops...</td>\n",
       "      <td>2014</td>\n",
       "      <td>02</td>\n",
       "      <td>14</td>\n",
       "      <td>4</td>\n",
       "    </tr>\n",
       "    <tr>\n",
       "      <th>4</th>\n",
       "      <td>A94QU4C90B1AX</td>\n",
       "      <td>1384719342</td>\n",
       "      <td>[0, 0]</td>\n",
       "      <td>5</td>\n",
       "      <td>pop filter great looks performs like studio fi...</td>\n",
       "      <td>2014</td>\n",
       "      <td>02</td>\n",
       "      <td>21</td>\n",
       "      <td>5</td>\n",
       "    </tr>\n",
       "    <tr>\n",
       "      <th>...</th>\n",
       "      <td>...</td>\n",
       "      <td>...</td>\n",
       "      <td>...</td>\n",
       "      <td>...</td>\n",
       "      <td>...</td>\n",
       "      <td>...</td>\n",
       "      <td>...</td>\n",
       "      <td>...</td>\n",
       "      <td>...</td>\n",
       "    </tr>\n",
       "    <tr>\n",
       "      <th>10256</th>\n",
       "      <td>A14B2YH83ZXMPP</td>\n",
       "      <td>B00JBIVXGC</td>\n",
       "      <td>[0, 0]</td>\n",
       "      <td>5</td>\n",
       "      <td>great expected thank allfive stars</td>\n",
       "      <td>2014</td>\n",
       "      <td>07</td>\n",
       "      <td>20</td>\n",
       "      <td>5</td>\n",
       "    </tr>\n",
       "    <tr>\n",
       "      <th>10257</th>\n",
       "      <td>A1RPTVW5VEOSI</td>\n",
       "      <td>B00JBIVXGC</td>\n",
       "      <td>[0, 0]</td>\n",
       "      <td>5</td>\n",
       "      <td>ive thinking trying nanoweb strings but bit pu...</td>\n",
       "      <td>2014</td>\n",
       "      <td>07</td>\n",
       "      <td>2</td>\n",
       "      <td>26</td>\n",
       "    </tr>\n",
       "    <tr>\n",
       "      <th>10258</th>\n",
       "      <td>AWCJ12KBO5VII</td>\n",
       "      <td>B00JBIVXGC</td>\n",
       "      <td>[0, 0]</td>\n",
       "      <td>4</td>\n",
       "      <td>tried coated strings past including elixirs ne...</td>\n",
       "      <td>2014</td>\n",
       "      <td>07</td>\n",
       "      <td>22</td>\n",
       "      <td>11</td>\n",
       "    </tr>\n",
       "    <tr>\n",
       "      <th>10259</th>\n",
       "      <td>A2Z7S8B5U4PAKJ</td>\n",
       "      <td>B00JBIVXGC</td>\n",
       "      <td>[0, 0]</td>\n",
       "      <td>4</td>\n",
       "      <td>well made elixir developed taylor guitars stri...</td>\n",
       "      <td>2014</td>\n",
       "      <td>07</td>\n",
       "      <td>1</td>\n",
       "      <td>16</td>\n",
       "    </tr>\n",
       "    <tr>\n",
       "      <th>10260</th>\n",
       "      <td>A2WA8TDCTGUADI</td>\n",
       "      <td>B00JBIVXGC</td>\n",
       "      <td>[0, 0]</td>\n",
       "      <td>4</td>\n",
       "      <td>strings really quite good but wouldnt call per...</td>\n",
       "      <td>2014</td>\n",
       "      <td>07</td>\n",
       "      <td>16</td>\n",
       "      <td>21</td>\n",
       "    </tr>\n",
       "  </tbody>\n",
       "</table>\n",
       "<p>10261 rows × 9 columns</p>\n",
       "</div>"
      ],
      "text/plain": [
       "            review_id        asin   helpful  overall  \\\n",
       "0      A2IBPI20UZIR0U  1384719342    [0, 0]        5   \n",
       "1      A14VAT5EAX3D9S  1384719342  [13, 14]        5   \n",
       "2      A195EZSQDW3E21  1384719342    [1, 1]        5   \n",
       "3      A2C00NNG1ZQQG2  1384719342    [0, 0]        5   \n",
       "4       A94QU4C90B1AX  1384719342    [0, 0]        5   \n",
       "...               ...         ...       ...      ...   \n",
       "10256  A14B2YH83ZXMPP  B00JBIVXGC    [0, 0]        5   \n",
       "10257   A1RPTVW5VEOSI  B00JBIVXGC    [0, 0]        5   \n",
       "10258   AWCJ12KBO5VII  B00JBIVXGC    [0, 0]        4   \n",
       "10259  A2Z7S8B5U4PAKJ  B00JBIVXGC    [0, 0]        4   \n",
       "10260  A2WA8TDCTGUADI  B00JBIVXGC    [0, 0]        4   \n",
       "\n",
       "                                                 reviews   year month day  \\\n",
       "0      not much write but exactly supposed filters po...   2014    02  28   \n",
       "1      product exactly quite affordablei not realized...   2013    03  16   \n",
       "2      primary job device block breath would otherwis...   2013    08  28   \n",
       "3      nice windscreen protects mxl mic prevents pops...   2014    02  14   \n",
       "4      pop filter great looks performs like studio fi...   2014    02  21   \n",
       "...                                                  ...    ...   ...  ..   \n",
       "10256                 great expected thank allfive stars   2014    07  20   \n",
       "10257  ive thinking trying nanoweb strings but bit pu...   2014    07   2   \n",
       "10258  tried coated strings past including elixirs ne...   2014    07  22   \n",
       "10259  well made elixir developed taylor guitars stri...   2014    07   1   \n",
       "10260  strings really quite good but wouldnt call per...   2014    07  16   \n",
       "\n",
       "       sentiment_value  \n",
       "0                    0  \n",
       "1                    2  \n",
       "2                   -1  \n",
       "3                    4  \n",
       "4                    5  \n",
       "...                ...  \n",
       "10256                5  \n",
       "10257               26  \n",
       "10258               11  \n",
       "10259               16  \n",
       "10260               21  \n",
       "\n",
       "[10261 rows x 9 columns]"
      ]
     },
     "execution_count": 27,
     "metadata": {},
     "output_type": "execute_result"
    }
   ],
   "source": [
    "review"
   ]
  },
  {
   "cell_type": "code",
   "execution_count": 28,
   "metadata": {
    "ExecuteTime": {
     "end_time": "2021-11-24T09:45:28.718884Z",
     "start_time": "2021-11-24T09:45:28.577445Z"
    }
   },
   "outputs": [
    {
     "data": {
      "text/plain": [
       "0         25\n",
       "1         55\n",
       "2         48\n",
       "3         22\n",
       "4         21\n",
       "        ... \n",
       "10256      5\n",
       "10257    291\n",
       "10258     58\n",
       "10259    153\n",
       "10260     61\n",
       "Name: word_count, Length: 10261, dtype: int64"
      ]
     },
     "execution_count": 28,
     "metadata": {},
     "output_type": "execute_result"
    }
   ],
   "source": [
    "# how many words are in the sentence?\n",
    "review['word_count'] = review['reviews'].str.split().apply(len)\n",
    "review['word_count']"
   ]
  },
  {
   "cell_type": "code",
   "execution_count": 29,
   "metadata": {
    "ExecuteTime": {
     "end_time": "2021-11-24T09:45:33.088456Z",
     "start_time": "2021-11-24T09:45:33.036593Z"
    }
   },
   "outputs": [
    {
     "data": {
      "text/html": [
       "<div>\n",
       "<style scoped>\n",
       "    .dataframe tbody tr th:only-of-type {\n",
       "        vertical-align: middle;\n",
       "    }\n",
       "\n",
       "    .dataframe tbody tr th {\n",
       "        vertical-align: top;\n",
       "    }\n",
       "\n",
       "    .dataframe thead th {\n",
       "        text-align: right;\n",
       "    }\n",
       "</style>\n",
       "<table border=\"1\" class=\"dataframe\">\n",
       "  <thead>\n",
       "    <tr style=\"text-align: right;\">\n",
       "      <th></th>\n",
       "      <th>review_id</th>\n",
       "      <th>asin</th>\n",
       "      <th>helpful</th>\n",
       "      <th>overall</th>\n",
       "      <th>reviews</th>\n",
       "      <th>year</th>\n",
       "      <th>month</th>\n",
       "      <th>day</th>\n",
       "      <th>sentiment_value</th>\n",
       "      <th>word_count</th>\n",
       "    </tr>\n",
       "  </thead>\n",
       "  <tbody>\n",
       "    <tr>\n",
       "      <th>6758</th>\n",
       "      <td>A3FQ9WYUHG9CD</td>\n",
       "      <td>B001OLZYUU</td>\n",
       "      <td>[0, 1]</td>\n",
       "      <td>4</td>\n",
       "      <td>fender treated polish cloth soft ecru colored ...</td>\n",
       "      <td>2013</td>\n",
       "      <td>12</td>\n",
       "      <td>4</td>\n",
       "      <td>-35</td>\n",
       "      <td>349</td>\n",
       "    </tr>\n",
       "    <tr>\n",
       "      <th>5678</th>\n",
       "      <td>A34WEXT7SIRFE4</td>\n",
       "      <td>B000ULAP4U</td>\n",
       "      <td>[9, 14]</td>\n",
       "      <td>2</td>\n",
       "      <td>cans decent back bucks theyve inflated thats r...</td>\n",
       "      <td>2012</td>\n",
       "      <td>02</td>\n",
       "      <td>3</td>\n",
       "      <td>-30</td>\n",
       "      <td>105</td>\n",
       "    </tr>\n",
       "    <tr>\n",
       "      <th>4112</th>\n",
       "      <td>A3M9FH2OZKYF4D</td>\n",
       "      <td>B000A2HOB6</td>\n",
       "      <td>[1, 2]</td>\n",
       "      <td>1</td>\n",
       "      <td>crikey begin firstly hated fact package two st...</td>\n",
       "      <td>2013</td>\n",
       "      <td>06</td>\n",
       "      <td>23</td>\n",
       "      <td>-27</td>\n",
       "      <td>67</td>\n",
       "    </tr>\n",
       "    <tr>\n",
       "      <th>8812</th>\n",
       "      <td>A165EMA3YTIM6A</td>\n",
       "      <td>B004UJO41S</td>\n",
       "      <td>[1, 11]</td>\n",
       "      <td>1</td>\n",
       "      <td>downgrade star returning back brookmays seller...</td>\n",
       "      <td>2012</td>\n",
       "      <td>01</td>\n",
       "      <td>3</td>\n",
       "      <td>-20</td>\n",
       "      <td>410</td>\n",
       "    </tr>\n",
       "    <tr>\n",
       "      <th>9364</th>\n",
       "      <td>A3D1A0YHTT0E9G</td>\n",
       "      <td>B005OZE9SA</td>\n",
       "      <td>[9, 10]</td>\n",
       "      <td>1</td>\n",
       "      <td>updated owning year encountering many difficul...</td>\n",
       "      <td>2012</td>\n",
       "      <td>10</td>\n",
       "      <td>29</td>\n",
       "      <td>-16</td>\n",
       "      <td>268</td>\n",
       "    </tr>\n",
       "    <tr>\n",
       "      <th>...</th>\n",
       "      <td>...</td>\n",
       "      <td>...</td>\n",
       "      <td>...</td>\n",
       "      <td>...</td>\n",
       "      <td>...</td>\n",
       "      <td>...</td>\n",
       "      <td>...</td>\n",
       "      <td>...</td>\n",
       "      <td>...</td>\n",
       "      <td>...</td>\n",
       "    </tr>\n",
       "    <tr>\n",
       "      <th>8500</th>\n",
       "      <td>ADH0O8UVJOT10</td>\n",
       "      <td>B0043RZ9QQ</td>\n",
       "      <td>[2, 2]</td>\n",
       "      <td>5</td>\n",
       "      <td>unfamiliar voxs amplug products things amazing...</td>\n",
       "      <td>2012</td>\n",
       "      <td>10</td>\n",
       "      <td>24</td>\n",
       "      <td>78</td>\n",
       "      <td>501</td>\n",
       "    </tr>\n",
       "    <tr>\n",
       "      <th>6576</th>\n",
       "      <td>A20JJ8634DG3FS</td>\n",
       "      <td>B001I8ITQA</td>\n",
       "      <td>[10, 10]</td>\n",
       "      <td>5</td>\n",
       "      <td>comparisons compared side side following pedal...</td>\n",
       "      <td>2013</td>\n",
       "      <td>08</td>\n",
       "      <td>21</td>\n",
       "      <td>98</td>\n",
       "      <td>1129</td>\n",
       "    </tr>\n",
       "    <tr>\n",
       "      <th>5973</th>\n",
       "      <td>A1LCG14GZJI5LO</td>\n",
       "      <td>B000Y7Q2C4</td>\n",
       "      <td>[1, 1]</td>\n",
       "      <td>5</td>\n",
       "      <td>love capo let tell capo journey ive used every...</td>\n",
       "      <td>2014</td>\n",
       "      <td>05</td>\n",
       "      <td>30</td>\n",
       "      <td>105</td>\n",
       "      <td>637</td>\n",
       "    </tr>\n",
       "    <tr>\n",
       "      <th>8636</th>\n",
       "      <td>A35YS5ND3K5FN</td>\n",
       "      <td>B004ISK48S</td>\n",
       "      <td>[74, 75]</td>\n",
       "      <td>5</td>\n",
       "      <td>constructionthis amp certainly looks sharp not...</td>\n",
       "      <td>2011</td>\n",
       "      <td>02</td>\n",
       "      <td>10</td>\n",
       "      <td>130</td>\n",
       "      <td>719</td>\n",
       "    </tr>\n",
       "    <tr>\n",
       "      <th>412</th>\n",
       "      <td>A27L5L6I7OSV5B</td>\n",
       "      <td>B0002CZV82</td>\n",
       "      <td>[142, 150]</td>\n",
       "      <td>2</td>\n",
       "      <td>greg abrams review entitled but tone snobs rev...</td>\n",
       "      <td>2011</td>\n",
       "      <td>06</td>\n",
       "      <td>30</td>\n",
       "      <td>139</td>\n",
       "      <td>713</td>\n",
       "    </tr>\n",
       "  </tbody>\n",
       "</table>\n",
       "<p>10261 rows × 10 columns</p>\n",
       "</div>"
      ],
      "text/plain": [
       "           review_id        asin     helpful  overall  \\\n",
       "6758   A3FQ9WYUHG9CD  B001OLZYUU      [0, 1]        4   \n",
       "5678  A34WEXT7SIRFE4  B000ULAP4U     [9, 14]        2   \n",
       "4112  A3M9FH2OZKYF4D  B000A2HOB6      [1, 2]        1   \n",
       "8812  A165EMA3YTIM6A  B004UJO41S     [1, 11]        1   \n",
       "9364  A3D1A0YHTT0E9G  B005OZE9SA     [9, 10]        1   \n",
       "...              ...         ...         ...      ...   \n",
       "8500   ADH0O8UVJOT10  B0043RZ9QQ      [2, 2]        5   \n",
       "6576  A20JJ8634DG3FS  B001I8ITQA    [10, 10]        5   \n",
       "5973  A1LCG14GZJI5LO  B000Y7Q2C4      [1, 1]        5   \n",
       "8636   A35YS5ND3K5FN  B004ISK48S    [74, 75]        5   \n",
       "412   A27L5L6I7OSV5B  B0002CZV82  [142, 150]        2   \n",
       "\n",
       "                                                reviews   year month day  \\\n",
       "6758  fender treated polish cloth soft ecru colored ...   2013    12   4   \n",
       "5678  cans decent back bucks theyve inflated thats r...   2012    02   3   \n",
       "4112  crikey begin firstly hated fact package two st...   2013    06  23   \n",
       "8812  downgrade star returning back brookmays seller...   2012    01   3   \n",
       "9364  updated owning year encountering many difficul...   2012    10  29   \n",
       "...                                                 ...    ...   ...  ..   \n",
       "8500  unfamiliar voxs amplug products things amazing...   2012    10  24   \n",
       "6576  comparisons compared side side following pedal...   2013    08  21   \n",
       "5973  love capo let tell capo journey ive used every...   2014    05  30   \n",
       "8636  constructionthis amp certainly looks sharp not...   2011    02  10   \n",
       "412   greg abrams review entitled but tone snobs rev...   2011    06  30   \n",
       "\n",
       "      sentiment_value  word_count  \n",
       "6758              -35         349  \n",
       "5678              -30         105  \n",
       "4112              -27          67  \n",
       "8812              -20         410  \n",
       "9364              -16         268  \n",
       "...               ...         ...  \n",
       "8500               78         501  \n",
       "6576               98        1129  \n",
       "5973              105         637  \n",
       "8636              130         719  \n",
       "412               139         713  \n",
       "\n",
       "[10261 rows x 10 columns]"
      ]
     },
     "execution_count": 29,
     "metadata": {},
     "output_type": "execute_result"
    }
   ],
   "source": [
    "review.sort_values(by='sentiment_value')\n"
   ]
  },
  {
   "cell_type": "code",
   "execution_count": 30,
   "metadata": {
    "ExecuteTime": {
     "end_time": "2021-11-24T09:45:46.556839Z",
     "start_time": "2021-11-24T09:45:46.536896Z"
    }
   },
   "outputs": [
    {
     "data": {
      "text/plain": [
       "139"
      ]
     },
     "execution_count": 30,
     "metadata": {},
     "output_type": "execute_result"
    }
   ],
   "source": [
    "# Maximum sentiment value\n",
    "review['sentiment_value'].max()"
   ]
  },
  {
   "cell_type": "code",
   "execution_count": 31,
   "metadata": {
    "ExecuteTime": {
     "end_time": "2021-11-24T09:45:47.377693Z",
     "start_time": "2021-11-24T09:45:47.265887Z"
    }
   },
   "outputs": [
    {
     "data": {
      "text/html": [
       "<div>\n",
       "<style scoped>\n",
       "    .dataframe tbody tr th:only-of-type {\n",
       "        vertical-align: middle;\n",
       "    }\n",
       "\n",
       "    .dataframe tbody tr th {\n",
       "        vertical-align: top;\n",
       "    }\n",
       "\n",
       "    .dataframe thead th {\n",
       "        text-align: right;\n",
       "    }\n",
       "</style>\n",
       "<table border=\"1\" class=\"dataframe\">\n",
       "  <thead>\n",
       "    <tr style=\"text-align: right;\">\n",
       "      <th></th>\n",
       "      <th>review_id</th>\n",
       "      <th>asin</th>\n",
       "      <th>helpful</th>\n",
       "      <th>overall</th>\n",
       "      <th>reviews</th>\n",
       "      <th>year</th>\n",
       "      <th>month</th>\n",
       "      <th>day</th>\n",
       "      <th>sentiment_value</th>\n",
       "      <th>word_count</th>\n",
       "    </tr>\n",
       "  </thead>\n",
       "  <tbody>\n",
       "    <tr>\n",
       "      <th>412</th>\n",
       "      <td>A27L5L6I7OSV5B</td>\n",
       "      <td>B0002CZV82</td>\n",
       "      <td>[142, 150]</td>\n",
       "      <td>2</td>\n",
       "      <td>greg abrams review entitled but tone snobs rev...</td>\n",
       "      <td>2011</td>\n",
       "      <td>06</td>\n",
       "      <td>30</td>\n",
       "      <td>139</td>\n",
       "      <td>713</td>\n",
       "    </tr>\n",
       "  </tbody>\n",
       "</table>\n",
       "</div>"
      ],
      "text/plain": [
       "          review_id        asin     helpful  overall  \\\n",
       "412  A27L5L6I7OSV5B  B0002CZV82  [142, 150]        2   \n",
       "\n",
       "                                               reviews   year month day  \\\n",
       "412  greg abrams review entitled but tone snobs rev...   2011    06  30   \n",
       "\n",
       "     sentiment_value  word_count  \n",
       "412              139         713  "
      ]
     },
     "execution_count": 31,
     "metadata": {},
     "output_type": "execute_result"
    }
   ],
   "source": [
    "# review which is having max sentiment value\n",
    "review[review['sentiment_value']==139]"
   ]
  },
  {
   "cell_type": "code",
   "execution_count": 32,
   "metadata": {
    "ExecuteTime": {
     "end_time": "2021-11-24T09:45:48.129408Z",
     "start_time": "2021-11-24T09:45:48.120465Z"
    }
   },
   "outputs": [
    {
     "data": {
      "text/plain": [
       "'greg abrams review entitled but tone snobs review down products pagealright want get good if somewhat basic distortion sound less deali strongly disagree find much better distortions less even near mark currently priced ative played guitar years like many people one first pedal purchases afterall everyone talks theyre available given music store nation hear famous musicians using plus actually pretty cheap snapped one like everyone else come find something popular doesnt always mean good see nickelback transformers movie franchise kardashian family etcso plugged didnt really care distortion harsh thin artificial sounding always noisy tried amps practic amp solid state fender frontman big amp tube halfstack not diverse basic sound not likeable ive read japanese made better sound newer made taiwan models but either way not great pedal mindbut like many newer players didnt know better time fast forward years ive bought sold literally dozens pedals whole world great tones found if keep eyes openso pedals currently like much better great general purpose distortions easy enough find new used guitar shops time writing bought brand new less good ol amazoncom rugged enough last yearsboss turbo distortion lest catch flames people thinking im boss hater im certainly not loved among others ill start big brother pedal much nicer tone not mention distinct distortion modes setting pretty much higher quality ii setting brighter richer tone completely overshadows popularity find ebay cheap prices worthy pedal unfortunately overlooked manypro co great dirty distortion pedal probably personal favorite youve heard box used literally hundreds if not thousands songs last years used ridiculous amount guitarists rich full distortion higher gains gets slightly fuzzy ive never heard bad tone mine great getting big amp kind sound small practice amp also great pushing big amp much headroom overdriven sweet spot without crank amp volume truly excellent pedalehx little big muff big muff another pedal youve heard hundreds songs kind fuzz kind distortion but definitely owns sonic territory big saturated warm used heavily classic rock tones also beyond tons grunge garage used everyone carlos santana david gilmour smashing pumpkins dinosaur jr jack white personally reccomend little big muff not touch creamier tone recent nyc reissue smaller uses regular adapter cheaper great pedalmxr distortion distortion great first distortion usually found pretty cheap whats nice distortion sounds great anything lack tone knob helps keep somewhat transparent ie easily hear natural tone guitar amp doesnt cover equipments sound used quite famous folks including greatful deads jerry garcia randy rhoads ozzys famous guitarist steve jones sex pistolsdanelectro cool cat metal make sure get cool cat metal not metal ii thats fine pedal well but definitely traditional metal pedal cool cat metal actually different pedal metal pedals basically preamp sits floor fully adjustable eq tons volume gain roof anything clean boost gain minimum virtually no coloration tone high gain metal stuff plenty great overdrive rock tones works well amp ive tried find tons great sounds unbelievably versatile pedal even true bypass best part danelectro seems made way many easily find one used even new true hidden gem thats actually cheaper crunch distortion little guy surprised supposedly clone mi audio crunch box if must one awesome pedal essentially marshall stack box boy ever succeed great crunch tons volume gain really make practice amp sound like big ragin stack even sounded good going modeling amp pedals work well modeling amp one even sounded better marshall simualtion built get brand new one shipped fantasticspeaking joyo ive pedals well one two moen another chinese pedal maker im honestly floored nice sound given shockingly low price tag especially themoen mofm fuzz moowhich honestly big muffs every big muff ive ever played joyo moen make variety great sounding fuzz od dirt pedals check anyone gets arms supporting chinese company please keep mind none pedals listed review included made america let alone western hemispherehopefully suggestions give something look also if cant actually try pedal store youtube great place hear demos different pedals doi also mention if try love suits needs power tone subjective every pedal sounds different running different guitars amps may share different opinions something love thats okay main reason posting lengthy review give newer players information plenty options distortion pedals not thing thats affordable find something truly love buy if one pedals ive mentioned anything else important part sounds right youwish knew know'"
      ]
     },
     "execution_count": 32,
     "metadata": {},
     "output_type": "execute_result"
    }
   ],
   "source": [
    "# Full review at index 412\n",
    "review['reviews'][412]"
   ]
  },
  {
   "cell_type": "code",
   "execution_count": 33,
   "metadata": {
    "ExecuteTime": {
     "end_time": "2021-11-24T09:45:49.051357Z",
     "start_time": "2021-11-24T09:45:49.033401Z"
    }
   },
   "outputs": [
    {
     "data": {
      "text/plain": [
       "-35"
      ]
     },
     "execution_count": 33,
     "metadata": {},
     "output_type": "execute_result"
    }
   ],
   "source": [
    "# minimum sentiment value\n",
    "review['sentiment_value'].min()"
   ]
  },
  {
   "cell_type": "code",
   "execution_count": 34,
   "metadata": {
    "ExecuteTime": {
     "end_time": "2021-11-24T09:45:50.144176Z",
     "start_time": "2021-11-24T09:45:50.113263Z"
    }
   },
   "outputs": [
    {
     "data": {
      "text/html": [
       "<div>\n",
       "<style scoped>\n",
       "    .dataframe tbody tr th:only-of-type {\n",
       "        vertical-align: middle;\n",
       "    }\n",
       "\n",
       "    .dataframe tbody tr th {\n",
       "        vertical-align: top;\n",
       "    }\n",
       "\n",
       "    .dataframe thead th {\n",
       "        text-align: right;\n",
       "    }\n",
       "</style>\n",
       "<table border=\"1\" class=\"dataframe\">\n",
       "  <thead>\n",
       "    <tr style=\"text-align: right;\">\n",
       "      <th></th>\n",
       "      <th>review_id</th>\n",
       "      <th>asin</th>\n",
       "      <th>helpful</th>\n",
       "      <th>overall</th>\n",
       "      <th>reviews</th>\n",
       "      <th>year</th>\n",
       "      <th>month</th>\n",
       "      <th>day</th>\n",
       "      <th>sentiment_value</th>\n",
       "      <th>word_count</th>\n",
       "    </tr>\n",
       "  </thead>\n",
       "  <tbody>\n",
       "    <tr>\n",
       "      <th>6758</th>\n",
       "      <td>A3FQ9WYUHG9CD</td>\n",
       "      <td>B001OLZYUU</td>\n",
       "      <td>[0, 1]</td>\n",
       "      <td>4</td>\n",
       "      <td>fender treated polish cloth soft ecru colored ...</td>\n",
       "      <td>2013</td>\n",
       "      <td>12</td>\n",
       "      <td>4</td>\n",
       "      <td>-35</td>\n",
       "      <td>349</td>\n",
       "    </tr>\n",
       "  </tbody>\n",
       "</table>\n",
       "</div>"
      ],
      "text/plain": [
       "          review_id        asin helpful  overall  \\\n",
       "6758  A3FQ9WYUHG9CD  B001OLZYUU  [0, 1]        4   \n",
       "\n",
       "                                                reviews   year month day  \\\n",
       "6758  fender treated polish cloth soft ecru colored ...   2013    12   4   \n",
       "\n",
       "      sentiment_value  word_count  \n",
       "6758              -35         349  "
      ]
     },
     "execution_count": 34,
     "metadata": {},
     "output_type": "execute_result"
    }
   ],
   "source": [
    "# review which is having min sentiment value\n",
    "review[review['sentiment_value']==-35]"
   ]
  },
  {
   "cell_type": "code",
   "execution_count": 35,
   "metadata": {
    "ExecuteTime": {
     "end_time": "2021-11-24T09:45:50.946963Z",
     "start_time": "2021-11-24T09:45:50.935990Z"
    }
   },
   "outputs": [
    {
     "data": {
      "text/plain": [
       "'fender treated polish cloth soft ecru colored cloth cut scalloped edge around asimple product classic fender logo left upper quadrant cloth resealableplastic bag cloth came label read states size inchesby incheswell size measured actually inches inches wanted mention itbecause seen people get mighty upset things like no problem inch minor detail go lumber yard time look wontactually find actual theyve shrinking yearsi not sure cloth treated but not feel different untreatedgibson polishing cloths purchased also gave nose test thought might hintof whiff polish something nope no scent no whiffwhat find disconcerting warning product details section amazon web page isthe fourth bullet down california residents click proposition warning thewarning verbatim amazon kudos amazon posting warning californias proposition entitles california consumers special warnings products contain chemicals known state california cause cancer birth defects reproductive harm if products expose consumers chemicals certain threshold levels care customers safety hope information helps buying decisions providing following warning products linked page warning product contains chemicals known state california cause cancer birth defects reproductive harm thought let know one guess missing inch really no big deal atthis point need worry concerns keeping beautiful guitar sparkling cleanyou could get cancer wow back reviewthe fender cloth soft little bit bigger gibson cloths but not much differencebetween two well gibson cloth whipstitch edging around notmuch differencewhen use fender cloth fender guitar no marks left no smudges left like tokeep neck especially clean polished regular basis seemed good job idont use body much not exposed dirty oily hands much theneckso based fact fender made cloth not scratch smudge guitar will give thisamazingly boring uninteresting ecru colored cloth stars appears supposed doand polish guitar without harming itit gets one less star california prop warning suppose need take somewhatseriously docked one star will definitely washing hand right using itso far no harm done guitars writing review future not sureabout thank say goodnight gracienote vendor godps responded admirably cloth not show time dayspast delivery date emailed responded quickly put another cloth mail tome came appropriate amount time inexpensive item went distance incustomer service will use x warning fender treated polish cloth photos lt'"
      ]
     },
     "execution_count": 35,
     "metadata": {},
     "output_type": "execute_result"
    }
   ],
   "source": [
    "# Full review at index 6758\n",
    "review['reviews'][6758]"
   ]
  },
  {
   "cell_type": "code",
   "execution_count": 36,
   "metadata": {
    "ExecuteTime": {
     "end_time": "2021-11-24T09:45:51.807937Z",
     "start_time": "2021-11-24T09:45:51.783006Z"
    }
   },
   "outputs": [
    {
     "data": {
      "text/plain": [
       "count    10261.000000\n",
       "mean         6.928759\n",
       "std          8.030333\n",
       "min        -35.000000\n",
       "25%          2.000000\n",
       "50%          6.000000\n",
       "75%         10.000000\n",
       "max        139.000000\n",
       "Name: sentiment_value, dtype: float64"
      ]
     },
     "execution_count": 36,
     "metadata": {},
     "output_type": "execute_result"
    }
   ],
   "source": [
    "# Sentiment score of the whole review\n",
    "review['sentiment_value'].describe()"
   ]
  },
  {
   "cell_type": "code",
   "execution_count": 37,
   "metadata": {
    "ExecuteTime": {
     "end_time": "2021-11-24T09:45:52.626745Z",
     "start_time": "2021-11-24T09:45:52.584890Z"
    }
   },
   "outputs": [
    {
     "data": {
      "text/html": [
       "<div>\n",
       "<style scoped>\n",
       "    .dataframe tbody tr th:only-of-type {\n",
       "        vertical-align: middle;\n",
       "    }\n",
       "\n",
       "    .dataframe tbody tr th {\n",
       "        vertical-align: top;\n",
       "    }\n",
       "\n",
       "    .dataframe thead th {\n",
       "        text-align: right;\n",
       "    }\n",
       "</style>\n",
       "<table border=\"1\" class=\"dataframe\">\n",
       "  <thead>\n",
       "    <tr style=\"text-align: right;\">\n",
       "      <th></th>\n",
       "      <th>review_id</th>\n",
       "      <th>asin</th>\n",
       "      <th>helpful</th>\n",
       "      <th>overall</th>\n",
       "      <th>reviews</th>\n",
       "      <th>year</th>\n",
       "      <th>month</th>\n",
       "      <th>day</th>\n",
       "      <th>sentiment_value</th>\n",
       "      <th>word_count</th>\n",
       "    </tr>\n",
       "  </thead>\n",
       "  <tbody>\n",
       "    <tr>\n",
       "      <th>0</th>\n",
       "      <td>A2IBPI20UZIR0U</td>\n",
       "      <td>1384719342</td>\n",
       "      <td>[0, 0]</td>\n",
       "      <td>5</td>\n",
       "      <td>not much write but exactly supposed filters po...</td>\n",
       "      <td>2014</td>\n",
       "      <td>02</td>\n",
       "      <td>28</td>\n",
       "      <td>0</td>\n",
       "      <td>25</td>\n",
       "    </tr>\n",
       "    <tr>\n",
       "      <th>2</th>\n",
       "      <td>A195EZSQDW3E21</td>\n",
       "      <td>1384719342</td>\n",
       "      <td>[1, 1]</td>\n",
       "      <td>5</td>\n",
       "      <td>primary job device block breath would otherwis...</td>\n",
       "      <td>2013</td>\n",
       "      <td>08</td>\n",
       "      <td>28</td>\n",
       "      <td>-1</td>\n",
       "      <td>48</td>\n",
       "    </tr>\n",
       "    <tr>\n",
       "      <th>7</th>\n",
       "      <td>AJNFQI3YR6XJ5</td>\n",
       "      <td>B00004Y2UT</td>\n",
       "      <td>[0, 0]</td>\n",
       "      <td>3</td>\n",
       "      <td>use cable run output pedal chain input fender ...</td>\n",
       "      <td>2012</td>\n",
       "      <td>11</td>\n",
       "      <td>16</td>\n",
       "      <td>0</td>\n",
       "      <td>87</td>\n",
       "    </tr>\n",
       "    <tr>\n",
       "      <th>12</th>\n",
       "      <td>A2NIT6BKW11XJQ</td>\n",
       "      <td>B00005ML71</td>\n",
       "      <td>[0, 0]</td>\n",
       "      <td>3</td>\n",
       "      <td>if not use using large sustaining pedal playin...</td>\n",
       "      <td>2013</td>\n",
       "      <td>11</td>\n",
       "      <td>17</td>\n",
       "      <td>0</td>\n",
       "      <td>16</td>\n",
       "    </tr>\n",
       "    <tr>\n",
       "      <th>28</th>\n",
       "      <td>A2CCGGDGZ694CT</td>\n",
       "      <td>B000068NVI</td>\n",
       "      <td>[1, 1]</td>\n",
       "      <td>4</td>\n",
       "      <td>hosa xlr cables affordable heavily madei large...</td>\n",
       "      <td>2012</td>\n",
       "      <td>07</td>\n",
       "      <td>11</td>\n",
       "      <td>-2</td>\n",
       "      <td>29</td>\n",
       "    </tr>\n",
       "    <tr>\n",
       "      <th>...</th>\n",
       "      <td>...</td>\n",
       "      <td>...</td>\n",
       "      <td>...</td>\n",
       "      <td>...</td>\n",
       "      <td>...</td>\n",
       "      <td>...</td>\n",
       "      <td>...</td>\n",
       "      <td>...</td>\n",
       "      <td>...</td>\n",
       "      <td>...</td>\n",
       "    </tr>\n",
       "    <tr>\n",
       "      <th>10178</th>\n",
       "      <td>A768OB1LNE356</td>\n",
       "      <td>B00FXKIG5I</td>\n",
       "      <td>[1, 2]</td>\n",
       "      <td>2</td>\n",
       "      <td>larger ones sometimes neck snap thought might ...</td>\n",
       "      <td>2014</td>\n",
       "      <td>03</td>\n",
       "      <td>22</td>\n",
       "      <td>-5</td>\n",
       "      <td>44</td>\n",
       "    </tr>\n",
       "    <tr>\n",
       "      <th>10181</th>\n",
       "      <td>AYTKUTAP0VA53</td>\n",
       "      <td>B00FXKIG5I</td>\n",
       "      <td>[0, 0]</td>\n",
       "      <td>5</td>\n",
       "      <td>thing tiny not breakable swivel head original ...</td>\n",
       "      <td>2014</td>\n",
       "      <td>02</td>\n",
       "      <td>9</td>\n",
       "      <td>0</td>\n",
       "      <td>12</td>\n",
       "    </tr>\n",
       "    <tr>\n",
       "      <th>10188</th>\n",
       "      <td>A3M1PLEYNDEYO8</td>\n",
       "      <td>B00GTSM8FW</td>\n",
       "      <td>[0, 0]</td>\n",
       "      <td>5</td>\n",
       "      <td>several capos but first adjustable tension sev...</td>\n",
       "      <td>2014</td>\n",
       "      <td>04</td>\n",
       "      <td>29</td>\n",
       "      <td>-5</td>\n",
       "      <td>72</td>\n",
       "    </tr>\n",
       "    <tr>\n",
       "      <th>10222</th>\n",
       "      <td>A2FY8306QHI5LE</td>\n",
       "      <td>B00IZCSW3M</td>\n",
       "      <td>[0, 0]</td>\n",
       "      <td>4</td>\n",
       "      <td>twice price standard strings daddario nyxl str...</td>\n",
       "      <td>2014</td>\n",
       "      <td>06</td>\n",
       "      <td>21</td>\n",
       "      <td>0</td>\n",
       "      <td>40</td>\n",
       "    </tr>\n",
       "    <tr>\n",
       "      <th>10239</th>\n",
       "      <td>A2PD27UKAD3Q00</td>\n",
       "      <td>B00IZCSW3M</td>\n",
       "      <td>[2, 2]</td>\n",
       "      <td>5</td>\n",
       "      <td>daddarios nickel plated electric guitar string...</td>\n",
       "      <td>2014</td>\n",
       "      <td>06</td>\n",
       "      <td>17</td>\n",
       "      <td>-3</td>\n",
       "      <td>108</td>\n",
       "    </tr>\n",
       "  </tbody>\n",
       "</table>\n",
       "<p>1505 rows × 10 columns</p>\n",
       "</div>"
      ],
      "text/plain": [
       "            review_id        asin helpful  overall  \\\n",
       "0      A2IBPI20UZIR0U  1384719342  [0, 0]        5   \n",
       "2      A195EZSQDW3E21  1384719342  [1, 1]        5   \n",
       "7       AJNFQI3YR6XJ5  B00004Y2UT  [0, 0]        3   \n",
       "12     A2NIT6BKW11XJQ  B00005ML71  [0, 0]        3   \n",
       "28     A2CCGGDGZ694CT  B000068NVI  [1, 1]        4   \n",
       "...               ...         ...     ...      ...   \n",
       "10178   A768OB1LNE356  B00FXKIG5I  [1, 2]        2   \n",
       "10181   AYTKUTAP0VA53  B00FXKIG5I  [0, 0]        5   \n",
       "10188  A3M1PLEYNDEYO8  B00GTSM8FW  [0, 0]        5   \n",
       "10222  A2FY8306QHI5LE  B00IZCSW3M  [0, 0]        4   \n",
       "10239  A2PD27UKAD3Q00  B00IZCSW3M  [2, 2]        5   \n",
       "\n",
       "                                                 reviews   year month day  \\\n",
       "0      not much write but exactly supposed filters po...   2014    02  28   \n",
       "2      primary job device block breath would otherwis...   2013    08  28   \n",
       "7      use cable run output pedal chain input fender ...   2012    11  16   \n",
       "12     if not use using large sustaining pedal playin...   2013    11  17   \n",
       "28     hosa xlr cables affordable heavily madei large...   2012    07  11   \n",
       "...                                                  ...    ...   ...  ..   \n",
       "10178  larger ones sometimes neck snap thought might ...   2014    03  22   \n",
       "10181  thing tiny not breakable swivel head original ...   2014    02   9   \n",
       "10188  several capos but first adjustable tension sev...   2014    04  29   \n",
       "10222  twice price standard strings daddario nyxl str...   2014    06  21   \n",
       "10239  daddarios nickel plated electric guitar string...   2014    06  17   \n",
       "\n",
       "       sentiment_value  word_count  \n",
       "0                    0          25  \n",
       "2                   -1          48  \n",
       "7                    0          87  \n",
       "12                   0          16  \n",
       "28                  -2          29  \n",
       "...                ...         ...  \n",
       "10178               -5          44  \n",
       "10181                0          12  \n",
       "10188               -5          72  \n",
       "10222                0          40  \n",
       "10239               -3         108  \n",
       "\n",
       "[1505 rows x 10 columns]"
      ]
     },
     "execution_count": 37,
     "metadata": {},
     "output_type": "execute_result"
    }
   ],
   "source": [
    "# Sentiment score of the whole review\n",
    "review[review['sentiment_value']<=0]"
   ]
  },
  {
   "cell_type": "code",
   "execution_count": 38,
   "metadata": {
    "ExecuteTime": {
     "end_time": "2021-11-24T09:45:53.320044Z",
     "start_time": "2021-11-24T09:45:53.292085Z"
    }
   },
   "outputs": [
    {
     "data": {
      "text/html": [
       "<div>\n",
       "<style scoped>\n",
       "    .dataframe tbody tr th:only-of-type {\n",
       "        vertical-align: middle;\n",
       "    }\n",
       "\n",
       "    .dataframe tbody tr th {\n",
       "        vertical-align: top;\n",
       "    }\n",
       "\n",
       "    .dataframe thead th {\n",
       "        text-align: right;\n",
       "    }\n",
       "</style>\n",
       "<table border=\"1\" class=\"dataframe\">\n",
       "  <thead>\n",
       "    <tr style=\"text-align: right;\">\n",
       "      <th></th>\n",
       "      <th>review_id</th>\n",
       "      <th>asin</th>\n",
       "      <th>helpful</th>\n",
       "      <th>overall</th>\n",
       "      <th>reviews</th>\n",
       "      <th>year</th>\n",
       "      <th>month</th>\n",
       "      <th>day</th>\n",
       "      <th>sentiment_value</th>\n",
       "      <th>word_count</th>\n",
       "    </tr>\n",
       "  </thead>\n",
       "  <tbody>\n",
       "    <tr>\n",
       "      <th>412</th>\n",
       "      <td>A27L5L6I7OSV5B</td>\n",
       "      <td>B0002CZV82</td>\n",
       "      <td>[142, 150]</td>\n",
       "      <td>2</td>\n",
       "      <td>greg abrams review entitled but tone snobs rev...</td>\n",
       "      <td>2011</td>\n",
       "      <td>06</td>\n",
       "      <td>30</td>\n",
       "      <td>139</td>\n",
       "      <td>713</td>\n",
       "    </tr>\n",
       "    <tr>\n",
       "      <th>5973</th>\n",
       "      <td>A1LCG14GZJI5LO</td>\n",
       "      <td>B000Y7Q2C4</td>\n",
       "      <td>[1, 1]</td>\n",
       "      <td>5</td>\n",
       "      <td>love capo let tell capo journey ive used every...</td>\n",
       "      <td>2014</td>\n",
       "      <td>05</td>\n",
       "      <td>30</td>\n",
       "      <td>105</td>\n",
       "      <td>637</td>\n",
       "    </tr>\n",
       "    <tr>\n",
       "      <th>8636</th>\n",
       "      <td>A35YS5ND3K5FN</td>\n",
       "      <td>B004ISK48S</td>\n",
       "      <td>[74, 75]</td>\n",
       "      <td>5</td>\n",
       "      <td>constructionthis amp certainly looks sharp not...</td>\n",
       "      <td>2011</td>\n",
       "      <td>02</td>\n",
       "      <td>10</td>\n",
       "      <td>130</td>\n",
       "      <td>719</td>\n",
       "    </tr>\n",
       "  </tbody>\n",
       "</table>\n",
       "</div>"
      ],
      "text/plain": [
       "           review_id        asin     helpful  overall  \\\n",
       "412   A27L5L6I7OSV5B  B0002CZV82  [142, 150]        2   \n",
       "5973  A1LCG14GZJI5LO  B000Y7Q2C4      [1, 1]        5   \n",
       "8636   A35YS5ND3K5FN  B004ISK48S    [74, 75]        5   \n",
       "\n",
       "                                                reviews   year month day  \\\n",
       "412   greg abrams review entitled but tone snobs rev...   2011    06  30   \n",
       "5973  love capo let tell capo journey ive used every...   2014    05  30   \n",
       "8636  constructionthis amp certainly looks sharp not...   2011    02  10   \n",
       "\n",
       "      sentiment_value  word_count  \n",
       "412               139         713  \n",
       "5973              105         637  \n",
       "8636              130         719  "
      ]
     },
     "execution_count": 38,
     "metadata": {},
     "output_type": "execute_result"
    }
   ],
   "source": [
    "review[review['sentiment_value']>=100]\n"
   ]
  },
  {
   "cell_type": "markdown",
   "metadata": {},
   "source": [
    "# Visualization"
   ]
  },
  {
   "cell_type": "code",
   "execution_count": 39,
   "metadata": {
    "ExecuteTime": {
     "end_time": "2021-11-24T09:45:55.974288Z",
     "start_time": "2021-11-24T09:45:55.000554Z"
    }
   },
   "outputs": [
    {
     "name": "stderr",
     "output_type": "stream",
     "text": [
      "C:\\Users\\Chetana\\anaconda3\\lib\\site-packages\\seaborn\\distributions.py:2551: FutureWarning: `distplot` is a deprecated function and will be removed in a future version. Please adapt your code to use either `displot` (a figure-level function with similar flexibility) or `histplot` (an axes-level function for histograms).\n",
      "  warnings.warn(msg, FutureWarning)\n"
     ]
    },
    {
     "data": {
      "text/plain": [
       "<AxesSubplot:xlabel='sentiment_value', ylabel='Density'>"
      ]
     },
     "execution_count": 39,
     "metadata": {},
     "output_type": "execute_result"
    },
    {
     "data": {
      "image/png": "[encoded data removed]",
      "text/plain": [
       "<Figure size 720x432 with 1 Axes>"
      ]
     },
     "metadata": {},
     "output_type": "display_data"
    }
   ],
   "source": [
    "# Checking the distribution of reviews \n",
    "\n",
    "import seaborn as sns\n",
    "sns.set(rc={'figure.figsize':(10,6)})\n",
    "sns.distplot(review['sentiment_value'])"
   ]
  },
  {
   "cell_type": "code",
   "execution_count": 40,
   "metadata": {
    "ExecuteTime": {
     "end_time": "2021-11-24T09:45:56.889090Z",
     "start_time": "2021-11-24T09:45:56.871132Z"
    }
   },
   "outputs": [],
   "source": [
    "review['index']=range(0,len(review))"
   ]
  },
  {
   "cell_type": "code",
   "execution_count": 41,
   "metadata": {
    "ExecuteTime": {
     "end_time": "2021-11-24T09:45:59.069249Z",
     "start_time": "2021-11-24T09:45:57.818707Z"
    }
   },
   "outputs": [
    {
     "data": {
      "text/plain": [
       "<AxesSubplot:xlabel='index', ylabel='sentiment_value'>"
      ]
     },
     "execution_count": 41,
     "metadata": {},
     "output_type": "execute_result"
    },
    {
     "data": {
      "image/png": "[encoded data removed]",
      "text/plain": [
       "<Figure size 1080x720 with 1 Axes>"
      ]
     },
     "metadata": {},
     "output_type": "display_data"
    }
   ],
   "source": [
    "plt.figure(figsize=(15, 10))\n",
    "sns.lineplot(y='sentiment_value',x='index',data=review)"
   ]
  },
  {
   "cell_type": "code",
   "execution_count": 42,
   "metadata": {
    "ExecuteTime": {
     "end_time": "2021-11-24T09:46:00.862490Z",
     "start_time": "2021-11-24T09:46:00.427288Z"
    }
   },
   "outputs": [
    {
     "name": "stderr",
     "output_type": "stream",
     "text": [
      "*c* argument looks like a single numeric RGB or RGBA sequence, which should be avoided as value-mapping will have precedence in case its length matches with *x* & *y*.  Please use the *color* keyword-argument or provide a 2-D array with a single row if you intend to specify the same RGB or RGBA value for all points.\n"
     ]
    },
    {
     "data": {
      "text/plain": [
       "<AxesSubplot:title={'center':'Sentence sentiment value to sentence word count'}, xlabel='word_count', ylabel='sentiment_value'>"
      ]
     },
     "execution_count": 42,
     "metadata": {},
     "output_type": "execute_result"
    },
    {
     "data": {
      "image/png": "[encoded data removed]",
      "text/plain": [
       "<Figure size 1080x720 with 1 Axes>"
      ]
     },
     "metadata": {},
     "output_type": "display_data"
    }
   ],
   "source": [
    "review.plot.scatter(x='word_count', y='sentiment_value', figsize=(15,10), title='Sentence sentiment value to sentence word count')\n"
   ]
  },
  {
   "cell_type": "code",
   "execution_count": 43,
   "metadata": {
    "ExecuteTime": {
     "end_time": "2021-11-24T09:46:01.771977Z",
     "start_time": "2021-11-24T09:46:01.757013Z"
    }
   },
   "outputs": [],
   "source": [
    "# This function will return sentiment category based on values in sentiment_value column\n",
    "\n",
    "def sentiment_cat(row):\n",
    "    \n",
    "    '''This function returns sentiment category based on values in sentiment_value column'''\n",
    "    \n",
    "    if row['sentiment_value'] < 0:\n",
    "        val = 'Negative'\n",
    "    elif row['sentiment_value'] == 0: \n",
    "        val = 'Neutral'\n",
    "    elif row['sentiment_value'] > 0:\n",
    "        val = 'Positive'\n",
    "    else:\n",
    "        val = -1\n",
    "    return val"
   ]
  },
  {
   "cell_type": "code",
   "execution_count": 44,
   "metadata": {
    "ExecuteTime": {
     "end_time": "2021-11-24T09:46:02.915024Z",
     "start_time": "2021-11-24T09:46:02.600954Z"
    }
   },
   "outputs": [
    {
     "data": {
      "text/html": [
       "<div>\n",
       "<style scoped>\n",
       "    .dataframe tbody tr th:only-of-type {\n",
       "        vertical-align: middle;\n",
       "    }\n",
       "\n",
       "    .dataframe tbody tr th {\n",
       "        vertical-align: top;\n",
       "    }\n",
       "\n",
       "    .dataframe thead th {\n",
       "        text-align: right;\n",
       "    }\n",
       "</style>\n",
       "<table border=\"1\" class=\"dataframe\">\n",
       "  <thead>\n",
       "    <tr style=\"text-align: right;\">\n",
       "      <th></th>\n",
       "      <th>review_id</th>\n",
       "      <th>asin</th>\n",
       "      <th>helpful</th>\n",
       "      <th>overall</th>\n",
       "      <th>reviews</th>\n",
       "      <th>year</th>\n",
       "      <th>month</th>\n",
       "      <th>day</th>\n",
       "      <th>sentiment_value</th>\n",
       "      <th>word_count</th>\n",
       "      <th>index</th>\n",
       "      <th>sentiment_category</th>\n",
       "    </tr>\n",
       "  </thead>\n",
       "  <tbody>\n",
       "    <tr>\n",
       "      <th>0</th>\n",
       "      <td>A2IBPI20UZIR0U</td>\n",
       "      <td>1384719342</td>\n",
       "      <td>[0, 0]</td>\n",
       "      <td>5</td>\n",
       "      <td>not much write but exactly supposed filters po...</td>\n",
       "      <td>2014</td>\n",
       "      <td>02</td>\n",
       "      <td>28</td>\n",
       "      <td>0</td>\n",
       "      <td>25</td>\n",
       "      <td>0</td>\n",
       "      <td>Neutral</td>\n",
       "    </tr>\n",
       "    <tr>\n",
       "      <th>1</th>\n",
       "      <td>A14VAT5EAX3D9S</td>\n",
       "      <td>1384719342</td>\n",
       "      <td>[13, 14]</td>\n",
       "      <td>5</td>\n",
       "      <td>product exactly quite affordablei not realized...</td>\n",
       "      <td>2013</td>\n",
       "      <td>03</td>\n",
       "      <td>16</td>\n",
       "      <td>2</td>\n",
       "      <td>55</td>\n",
       "      <td>1</td>\n",
       "      <td>Positive</td>\n",
       "    </tr>\n",
       "    <tr>\n",
       "      <th>2</th>\n",
       "      <td>A195EZSQDW3E21</td>\n",
       "      <td>1384719342</td>\n",
       "      <td>[1, 1]</td>\n",
       "      <td>5</td>\n",
       "      <td>primary job device block breath would otherwis...</td>\n",
       "      <td>2013</td>\n",
       "      <td>08</td>\n",
       "      <td>28</td>\n",
       "      <td>-1</td>\n",
       "      <td>48</td>\n",
       "      <td>2</td>\n",
       "      <td>Negative</td>\n",
       "    </tr>\n",
       "    <tr>\n",
       "      <th>3</th>\n",
       "      <td>A2C00NNG1ZQQG2</td>\n",
       "      <td>1384719342</td>\n",
       "      <td>[0, 0]</td>\n",
       "      <td>5</td>\n",
       "      <td>nice windscreen protects mxl mic prevents pops...</td>\n",
       "      <td>2014</td>\n",
       "      <td>02</td>\n",
       "      <td>14</td>\n",
       "      <td>4</td>\n",
       "      <td>22</td>\n",
       "      <td>3</td>\n",
       "      <td>Positive</td>\n",
       "    </tr>\n",
       "    <tr>\n",
       "      <th>4</th>\n",
       "      <td>A94QU4C90B1AX</td>\n",
       "      <td>1384719342</td>\n",
       "      <td>[0, 0]</td>\n",
       "      <td>5</td>\n",
       "      <td>pop filter great looks performs like studio fi...</td>\n",
       "      <td>2014</td>\n",
       "      <td>02</td>\n",
       "      <td>21</td>\n",
       "      <td>5</td>\n",
       "      <td>21</td>\n",
       "      <td>4</td>\n",
       "      <td>Positive</td>\n",
       "    </tr>\n",
       "  </tbody>\n",
       "</table>\n",
       "</div>"
      ],
      "text/plain": [
       "        review_id        asin   helpful  overall  \\\n",
       "0  A2IBPI20UZIR0U  1384719342    [0, 0]        5   \n",
       "1  A14VAT5EAX3D9S  1384719342  [13, 14]        5   \n",
       "2  A195EZSQDW3E21  1384719342    [1, 1]        5   \n",
       "3  A2C00NNG1ZQQG2  1384719342    [0, 0]        5   \n",
       "4   A94QU4C90B1AX  1384719342    [0, 0]        5   \n",
       "\n",
       "                                             reviews   year month day  \\\n",
       "0  not much write but exactly supposed filters po...   2014    02  28   \n",
       "1  product exactly quite affordablei not realized...   2013    03  16   \n",
       "2  primary job device block breath would otherwis...   2013    08  28   \n",
       "3  nice windscreen protects mxl mic prevents pops...   2014    02  14   \n",
       "4  pop filter great looks performs like studio fi...   2014    02  21   \n",
       "\n",
       "   sentiment_value  word_count  index sentiment_category  \n",
       "0                0          25      0            Neutral  \n",
       "1                2          55      1           Positive  \n",
       "2               -1          48      2           Negative  \n",
       "3                4          22      3           Positive  \n",
       "4                5          21      4           Positive  "
      ]
     },
     "execution_count": 44,
     "metadata": {},
     "output_type": "execute_result"
    }
   ],
   "source": [
    "#Applying the function in our new column\n",
    "review['sentiment_category'] = review.apply(sentiment_cat, axis=1)\n",
    "review.head()"
   ]
  },
  {
   "cell_type": "code",
   "execution_count": 45,
   "metadata": {
    "ExecuteTime": {
     "end_time": "2021-11-24T09:46:05.616343Z",
     "start_time": "2021-11-24T09:46:05.604377Z"
    }
   },
   "outputs": [
    {
     "data": {
      "text/plain": [
       "Positive    8756\n",
       "Negative     860\n",
       "Neutral      645\n",
       "Name: sentiment_category, dtype: int64"
      ]
     },
     "execution_count": 45,
     "metadata": {},
     "output_type": "execute_result"
    }
   ],
   "source": [
    "review['sentiment_category'].value_counts()\n"
   ]
  },
  {
   "cell_type": "code",
   "execution_count": 46,
   "metadata": {
    "ExecuteTime": {
     "end_time": "2021-11-24T09:46:09.871732Z",
     "start_time": "2021-11-24T09:46:09.406135Z"
    }
   },
   "outputs": [
    {
     "data": {
      "image/png": "[encoded data removed]",
      "text/plain": [
       "<Figure size 1080x720 with 1 Axes>"
      ]
     },
     "metadata": {},
     "output_type": "display_data"
    }
   ],
   "source": [
    "# Year vs Sentiment count\n",
    "review.groupby(['year','sentiment_category'])['sentiment_category'].count().unstack().plot(figsize = (15,10),legend=True)\n",
    "plt.title('Year and Sentiment count')\n",
    "plt.xlabel('Year')\n",
    "plt.ylabel('Sentiment count')\n",
    "plt.show()"
   ]
  },
  {
   "cell_type": "code",
   "execution_count": 47,
   "metadata": {
    "ExecuteTime": {
     "end_time": "2021-11-24T09:46:11.614582Z",
     "start_time": "2021-11-24T09:46:10.762977Z"
    }
   },
   "outputs": [
    {
     "data": {
      "image/png": "[encoded data removed]",
      "text/plain": [
       "<Figure size 1080x648 with 1 Axes>"
      ]
     },
     "metadata": {},
     "output_type": "display_data"
    }
   ],
   "source": [
    "# Day of month vs Reviews count\n",
    "\n",
    "#Creating a dataframe\n",
    "day=pd.DataFrame(review.groupby('day')['reviews'].count()).reset_index()\n",
    "day['day']=day['day'].astype('int64')\n",
    "day.sort_values(by=['day'])\n",
    "\n",
    "#Plotting the graph\n",
    "sns.set(rc={'figure.figsize':(15, 9)})\n",
    "sns.barplot(x=\"day\", y=\"reviews\", data=day)\n",
    "plt.title('Day vs Reviews count')\n",
    "plt.xlabel('Day')\n",
    "plt.ylabel('Reviews count')\n",
    "plt.show()"
   ]
  },
  {
   "cell_type": "markdown",
   "metadata": {},
   "source": [
    "## Calculate percentage for each sentiment category"
   ]
  },
  {
   "cell_type": "code",
   "execution_count": 48,
   "metadata": {
    "ExecuteTime": {
     "end_time": "2021-11-24T09:46:12.405353Z",
     "start_time": "2021-11-24T09:46:12.370409Z"
    }
   },
   "outputs": [
    {
     "data": {
      "text/html": [
       "<div>\n",
       "<style scoped>\n",
       "    .dataframe tbody tr th:only-of-type {\n",
       "        vertical-align: middle;\n",
       "    }\n",
       "\n",
       "    .dataframe tbody tr th {\n",
       "        vertical-align: top;\n",
       "    }\n",
       "\n",
       "    .dataframe thead th {\n",
       "        text-align: right;\n",
       "    }\n",
       "</style>\n",
       "<table border=\"1\" class=\"dataframe\">\n",
       "  <thead>\n",
       "    <tr style=\"text-align: right;\">\n",
       "      <th></th>\n",
       "      <th>Total</th>\n",
       "      <th>Percentage</th>\n",
       "    </tr>\n",
       "  </thead>\n",
       "  <tbody>\n",
       "    <tr>\n",
       "      <th>Positive</th>\n",
       "      <td>8756</td>\n",
       "      <td>85.33</td>\n",
       "    </tr>\n",
       "    <tr>\n",
       "      <th>Negative</th>\n",
       "      <td>860</td>\n",
       "      <td>8.38</td>\n",
       "    </tr>\n",
       "    <tr>\n",
       "      <th>Neutral</th>\n",
       "      <td>645</td>\n",
       "      <td>6.29</td>\n",
       "    </tr>\n",
       "  </tbody>\n",
       "</table>\n",
       "</div>"
      ],
      "text/plain": [
       "          Total  Percentage\n",
       "Positive   8756       85.33\n",
       "Negative    860        8.38\n",
       "Neutral     645        6.29"
      ]
     },
     "execution_count": 48,
     "metadata": {},
     "output_type": "execute_result"
    }
   ],
   "source": [
    "def count_values_in_column(review,feature):\n",
    " total=review.loc[:,feature].value_counts(dropna=False)\n",
    " percentage=round(review.loc[:,feature].value_counts(dropna=False,normalize=True)*100,2)\n",
    " return pd.concat([total,percentage],axis=1,keys=['Total','Percentage'])\n",
    "#Count_values for sentiment\n",
    "count_values_in_column(review,'sentiment_category')"
   ]
  },
  {
   "cell_type": "code",
   "execution_count": 49,
   "metadata": {
    "ExecuteTime": {
     "end_time": "2021-11-24T09:46:13.240409Z",
     "start_time": "2021-11-24T09:46:13.207464Z"
    }
   },
   "outputs": [
    {
     "data": {
      "text/plain": [
       "Positive    85.33\n",
       "Negative     8.38\n",
       "Neutral      6.29\n",
       "Name: Percentage, dtype: float64"
      ]
     },
     "execution_count": 49,
     "metadata": {},
     "output_type": "execute_result"
    }
   ],
   "source": [
    "y = count_values_in_column(review, 'sentiment_category')\n",
    "y['Percentage']"
   ]
  },
  {
   "cell_type": "code",
   "execution_count": 50,
   "metadata": {
    "ExecuteTime": {
     "end_time": "2021-11-24T09:46:14.411684Z",
     "start_time": "2021-11-24T09:46:14.055824Z"
    }
   },
   "outputs": [
    {
     "data": {
      "image/png": "[encoded data removed]",
      "text/plain": [
       "<Figure size 576x576 with 1 Axes>"
      ]
     },
     "metadata": {},
     "output_type": "display_data"
    }
   ],
   "source": [
    "import matplotlib.pyplot as plt\n",
    "y=count_values_in_column(review, 'sentiment_category')\n",
    "y=y['Total']\n",
    "plt.figure(figsize=(8,8))\n",
    "mylabels = ['positive', 'neutral','negative']\n",
    "\n",
    "plt.pie(y, labels = mylabels, startangle=180, colors=['#47B39C', '#ffa600','#ff6361'], autopct='%1.1f%%', explode=[0.01,0.01,0.01])\n",
    "plt.legend()\n",
    "plt.show()"
   ]
  },
  {
   "cell_type": "markdown",
   "metadata": {},
   "source": [
    "# Inference:\n"
   ]
  },
  {
   "cell_type": "markdown",
   "metadata": {},
   "source": [
    "## From the above visualization it is very clear that the number of positive reviews for the musical instrument on Amazon are high. "
   ]
  }
 ],
 "metadata": {
  "kernelspec": {
   "display_name": "Python 3",
   "language": "python",
   "name": "python3"
  },
  "language_info": {
   "codemirror_mode": {
    "name": "ipython",
    "version": 3
   },
   "file_extension": ".py",
   "mimetype": "text/x-python",
   "name": "python",
   "nbconvert_exporter": "python",
   "pygments_lexer": "ipython3",
   "version": "3.8.5"
  },
  "varInspector": {
   "cols": {
    "lenName": 16,
    "lenType": 16,
    "lenVar": 40
   },
   "kernels_config": {
    "python": {
     "delete_cmd_postfix": "",
     "delete_cmd_prefix": "del ",
     "library": "var_list.py",
     "varRefreshCmd": "print(var_dic_list())"
    },
    "r": {
     "delete_cmd_postfix": ") ",
     "delete_cmd_prefix": "rm(",
     "library": "var_list.r",
     "varRefreshCmd": "cat(var_dic_list()) "
    }
   },
   "types_to_exclude": [
    "module",
    "function",
    "builtin_function_or_method",
    "instance",
    "_Feature"
   ],
   "window_display": false
  }
 },
 "nbformat": 4,
 "nbformat_minor": 4
}
